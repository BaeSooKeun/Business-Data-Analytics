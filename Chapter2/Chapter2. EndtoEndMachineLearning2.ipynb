{
 "cells": [
  {
   "cell_type": "markdown",
   "metadata": {
    "id": "fm18ZJmeC6JO"
   },
   "source": [
    "# 2.5. Prepare the Data for Machine Learning Algorithms"
   ]
  },
  {
   "cell_type": "code",
   "execution_count": 1,
   "metadata": {
    "id": "QYDbKMMupx9m"
   },
   "outputs": [],
   "source": [
    "import pandas as pd\n",
    "import numpy as np"
   ]
  },
  {
   "cell_type": "code",
   "execution_count": 2,
   "metadata": {
    "id": "_Pc7FhwtqXmK"
   },
   "outputs": [],
   "source": [
    "# Get the data\n",
    "housing = pd.read_csv(\"housing.csv\")\n",
    "\n",
    "# Use numerical attributes\n",
    "housing = housing.drop('ocean_proximity', axis=1)\n",
    "\n",
    "# Add attribute combinations\n",
    "housing[\"rooms_per_household\"] = housing[\"total_rooms\"]/housing[\"households\"]\n",
    "housing[\"bedrooms_per_room\"] = housing[\"total_bedrooms\"]/housing[\"total_rooms\"]\n",
    "housing[\"population_per_household\"] = housing[\"population\"]/housing[\"households\"]"
   ]
  },
  {
   "cell_type": "code",
   "execution_count": 3,
   "metadata": {
    "id": "7dHZiwJ-C5Y0"
   },
   "outputs": [],
   "source": [
    "# Get rid of the missing districts and separate the predictors and the labels\n",
    "from sklearn.model_selection import train_test_split\n",
    "train_set, test_set = train_test_split(housing, test_size=0.2, random_state=77)\n",
    "\n",
    "train_set = train_set.dropna()\n",
    "\n",
    "housing = train_set.drop(\"median_house_value\", axis=1) # drop labels for training set\n",
    "housing_labels = train_set[\"median_house_value\"].copy()"
   ]
  },
  {
   "cell_type": "code",
   "execution_count": 4,
   "metadata": {
    "colab": {
     "base_uri": "https://localhost:8080/",
     "height": 300
    },
    "id": "GQ0VKUmGGufu",
    "outputId": "b2471dda-f1f3-46e2-c373-95bc0ab90609"
   },
   "outputs": [
    {
     "data": {
      "text/html": [
       "<div>\n",
       "<style scoped>\n",
       "    .dataframe tbody tr th:only-of-type {\n",
       "        vertical-align: middle;\n",
       "    }\n",
       "\n",
       "    .dataframe tbody tr th {\n",
       "        vertical-align: top;\n",
       "    }\n",
       "\n",
       "    .dataframe thead th {\n",
       "        text-align: right;\n",
       "    }\n",
       "</style>\n",
       "<table border=\"1\" class=\"dataframe\">\n",
       "  <thead>\n",
       "    <tr style=\"text-align: right;\">\n",
       "      <th></th>\n",
       "      <th>longitude</th>\n",
       "      <th>latitude</th>\n",
       "      <th>housing_median_age</th>\n",
       "      <th>total_rooms</th>\n",
       "      <th>total_bedrooms</th>\n",
       "      <th>population</th>\n",
       "      <th>households</th>\n",
       "      <th>median_income</th>\n",
       "      <th>rooms_per_household</th>\n",
       "      <th>bedrooms_per_room</th>\n",
       "      <th>population_per_household</th>\n",
       "    </tr>\n",
       "  </thead>\n",
       "  <tbody>\n",
       "    <tr>\n",
       "      <th>count</th>\n",
       "      <td>16356.000000</td>\n",
       "      <td>16356.000000</td>\n",
       "      <td>16356.000000</td>\n",
       "      <td>16356.000000</td>\n",
       "      <td>16356.000000</td>\n",
       "      <td>16356.000000</td>\n",
       "      <td>16356.000000</td>\n",
       "      <td>16356.000000</td>\n",
       "      <td>16356.000000</td>\n",
       "      <td>16356.000000</td>\n",
       "      <td>16356.000000</td>\n",
       "    </tr>\n",
       "    <tr>\n",
       "      <th>mean</th>\n",
       "      <td>-119.573795</td>\n",
       "      <td>35.639796</td>\n",
       "      <td>28.631756</td>\n",
       "      <td>2631.186170</td>\n",
       "      <td>536.586023</td>\n",
       "      <td>1419.991807</td>\n",
       "      <td>498.207447</td>\n",
       "      <td>3.866145</td>\n",
       "      <td>5.430706</td>\n",
       "      <td>0.213129</td>\n",
       "      <td>3.090379</td>\n",
       "    </tr>\n",
       "    <tr>\n",
       "      <th>std</th>\n",
       "      <td>2.008811</td>\n",
       "      <td>2.138210</td>\n",
       "      <td>12.596261</td>\n",
       "      <td>2185.318541</td>\n",
       "      <td>419.035109</td>\n",
       "      <td>1111.483289</td>\n",
       "      <td>379.745509</td>\n",
       "      <td>1.897953</td>\n",
       "      <td>2.573172</td>\n",
       "      <td>0.057546</td>\n",
       "      <td>11.625191</td>\n",
       "    </tr>\n",
       "    <tr>\n",
       "      <th>min</th>\n",
       "      <td>-124.350000</td>\n",
       "      <td>32.550000</td>\n",
       "      <td>1.000000</td>\n",
       "      <td>2.000000</td>\n",
       "      <td>1.000000</td>\n",
       "      <td>3.000000</td>\n",
       "      <td>1.000000</td>\n",
       "      <td>0.499900</td>\n",
       "      <td>0.846154</td>\n",
       "      <td>0.100000</td>\n",
       "      <td>0.692308</td>\n",
       "    </tr>\n",
       "    <tr>\n",
       "      <th>25%</th>\n",
       "      <td>-121.810000</td>\n",
       "      <td>33.930000</td>\n",
       "      <td>18.000000</td>\n",
       "      <td>1449.000000</td>\n",
       "      <td>296.000000</td>\n",
       "      <td>786.000000</td>\n",
       "      <td>280.000000</td>\n",
       "      <td>2.560000</td>\n",
       "      <td>4.433867</td>\n",
       "      <td>0.175552</td>\n",
       "      <td>2.428532</td>\n",
       "    </tr>\n",
       "    <tr>\n",
       "      <th>50%</th>\n",
       "      <td>-118.490000</td>\n",
       "      <td>34.260000</td>\n",
       "      <td>29.000000</td>\n",
       "      <td>2122.000000</td>\n",
       "      <td>434.000000</td>\n",
       "      <td>1162.000000</td>\n",
       "      <td>408.000000</td>\n",
       "      <td>3.528800</td>\n",
       "      <td>5.226528</td>\n",
       "      <td>0.203345</td>\n",
       "      <td>2.814815</td>\n",
       "    </tr>\n",
       "    <tr>\n",
       "      <th>75%</th>\n",
       "      <td>-118.010000</td>\n",
       "      <td>37.720000</td>\n",
       "      <td>37.000000</td>\n",
       "      <td>3133.250000</td>\n",
       "      <td>645.000000</td>\n",
       "      <td>1718.000000</td>\n",
       "      <td>602.000000</td>\n",
       "      <td>4.740400</td>\n",
       "      <td>6.048902</td>\n",
       "      <td>0.240237</td>\n",
       "      <td>3.281487</td>\n",
       "    </tr>\n",
       "    <tr>\n",
       "      <th>max</th>\n",
       "      <td>-114.310000</td>\n",
       "      <td>41.950000</td>\n",
       "      <td>52.000000</td>\n",
       "      <td>39320.000000</td>\n",
       "      <td>6445.000000</td>\n",
       "      <td>28566.000000</td>\n",
       "      <td>6082.000000</td>\n",
       "      <td>15.000100</td>\n",
       "      <td>141.909091</td>\n",
       "      <td>1.000000</td>\n",
       "      <td>1243.333333</td>\n",
       "    </tr>\n",
       "  </tbody>\n",
       "</table>\n",
       "</div>"
      ],
      "text/plain": [
       "          longitude      latitude  housing_median_age   total_rooms  \\\n",
       "count  16356.000000  16356.000000        16356.000000  16356.000000   \n",
       "mean    -119.573795     35.639796           28.631756   2631.186170   \n",
       "std        2.008811      2.138210           12.596261   2185.318541   \n",
       "min     -124.350000     32.550000            1.000000      2.000000   \n",
       "25%     -121.810000     33.930000           18.000000   1449.000000   \n",
       "50%     -118.490000     34.260000           29.000000   2122.000000   \n",
       "75%     -118.010000     37.720000           37.000000   3133.250000   \n",
       "max     -114.310000     41.950000           52.000000  39320.000000   \n",
       "\n",
       "       total_bedrooms    population    households  median_income  \\\n",
       "count    16356.000000  16356.000000  16356.000000   16356.000000   \n",
       "mean       536.586023   1419.991807    498.207447       3.866145   \n",
       "std        419.035109   1111.483289    379.745509       1.897953   \n",
       "min          1.000000      3.000000      1.000000       0.499900   \n",
       "25%        296.000000    786.000000    280.000000       2.560000   \n",
       "50%        434.000000   1162.000000    408.000000       3.528800   \n",
       "75%        645.000000   1718.000000    602.000000       4.740400   \n",
       "max       6445.000000  28566.000000   6082.000000      15.000100   \n",
       "\n",
       "       rooms_per_household  bedrooms_per_room  population_per_household  \n",
       "count         16356.000000       16356.000000              16356.000000  \n",
       "mean              5.430706           0.213129                  3.090379  \n",
       "std               2.573172           0.057546                 11.625191  \n",
       "min               0.846154           0.100000                  0.692308  \n",
       "25%               4.433867           0.175552                  2.428532  \n",
       "50%               5.226528           0.203345                  2.814815  \n",
       "75%               6.048902           0.240237                  3.281487  \n",
       "max             141.909091           1.000000               1243.333333  "
      ]
     },
     "execution_count": 4,
     "metadata": {},
     "output_type": "execute_result"
    }
   ],
   "source": [
    "housing.describe()"
   ]
  },
  {
   "cell_type": "code",
   "execution_count": null,
   "metadata": {
    "id": "fc2TVFAGui4C"
   },
   "outputs": [],
   "source": []
  },
  {
   "cell_type": "markdown",
   "metadata": {
    "id": "L74GOwsTGuQU"
   },
   "source": [
    "# 2.6. Select and Train a Model"
   ]
  },
  {
   "cell_type": "markdown",
   "metadata": {
    "id": "663QOop0G0RT"
   },
   "source": [
    "## 2.6.1. Training and Evaluating on the Training Set"
   ]
  },
  {
   "cell_type": "code",
   "execution_count": 5,
   "metadata": {
    "colab": {
     "base_uri": "https://localhost:8080/",
     "height": 75
    },
    "id": "OvzIWWhSDm-l",
    "outputId": "13d1482b-6b45-4c80-9ad8-1a6747b0dcb9"
   },
   "outputs": [
    {
     "data": {
      "text/plain": [
       "LinearRegression()"
      ]
     },
     "execution_count": 5,
     "metadata": {},
     "output_type": "execute_result"
    }
   ],
   "source": [
    "from sklearn.linear_model import LinearRegression\n",
    "\n",
    "lin_reg = LinearRegression()\n",
    "lin_reg.fit(housing, housing_labels)"
   ]
  },
  {
   "cell_type": "code",
   "execution_count": 6,
   "metadata": {
    "colab": {
     "base_uri": "https://localhost:8080/"
    },
    "id": "fh84f93VG6d2",
    "outputId": "147630db-f5c8-4158-b1ce-c3051dd13c9f"
   },
   "outputs": [
    {
     "data": {
      "text/plain": [
       "68218.27774882574"
      ]
     },
     "execution_count": 6,
     "metadata": {},
     "output_type": "execute_result"
    }
   ],
   "source": [
    "from sklearn.metrics import mean_squared_error\n",
    "\n",
    "housing_predictions = lin_reg.predict(housing)\n",
    "lin_mse = mean_squared_error(housing_labels, housing_predictions)\n",
    "lin_rmse = np.sqrt(lin_mse)\n",
    "lin_rmse"
   ]
  },
  {
   "cell_type": "code",
   "execution_count": 7,
   "metadata": {
    "colab": {
     "base_uri": "https://localhost:8080/",
     "height": 75
    },
    "id": "vkVbblinx0WM",
    "outputId": "abed1891-17db-4ca0-ecce-fe802fcc4227"
   },
   "outputs": [
    {
     "data": {
      "text/plain": [
       "DecisionTreeRegressor(random_state=42)"
      ]
     },
     "execution_count": 7,
     "metadata": {},
     "output_type": "execute_result"
    }
   ],
   "source": [
    "from sklearn.tree import DecisionTreeRegressor\n",
    "\n",
    "tree_reg = DecisionTreeRegressor(random_state=42)\n",
    "tree_reg.fit(housing, housing_labels)"
   ]
  },
  {
   "cell_type": "code",
   "execution_count": 8,
   "metadata": {
    "colab": {
     "base_uri": "https://localhost:8080/"
    },
    "id": "7rbqJ_WXx5Tk",
    "outputId": "ce57827e-f127-4203-c1b6-b23b7dbf9011"
   },
   "outputs": [
    {
     "data": {
      "text/plain": [
       "0.0"
      ]
     },
     "execution_count": 8,
     "metadata": {},
     "output_type": "execute_result"
    }
   ],
   "source": [
    "housing_predictions = tree_reg.predict(housing)\n",
    "tree_mse = mean_squared_error(housing_labels, housing_predictions)\n",
    "tree_rmse = np.sqrt(tree_mse)\n",
    "tree_rmse"
   ]
  },
  {
   "cell_type": "code",
   "execution_count": null,
   "metadata": {
    "id": "KLYrM_4wx-Qc"
   },
   "outputs": [],
   "source": []
  },
  {
   "cell_type": "markdown",
   "metadata": {
    "id": "BkUMMpBwT9E_"
   },
   "source": [
    "## 2.7.5. Evaluate Your System on the Test Set"
   ]
  },
  {
   "cell_type": "code",
   "execution_count": 9,
   "metadata": {
    "id": "fUyJgdiWT77C"
   },
   "outputs": [],
   "source": [
    "test_set = test_set.dropna()\n",
    "\n",
    "X_test = test_set.drop(\"median_house_value\", axis=1)\n",
    "y_test = test_set[\"median_house_value\"].copy()"
   ]
  },
  {
   "cell_type": "code",
   "execution_count": 10,
   "metadata": {
    "colab": {
     "base_uri": "https://localhost:8080/",
     "height": 75
    },
    "id": "k7phdFifT72u",
    "outputId": "d027b125-124e-4e84-81e3-464e691da189"
   },
   "outputs": [
    {
     "data": {
      "text/plain": [
       "LinearRegression()"
      ]
     },
     "execution_count": 10,
     "metadata": {},
     "output_type": "execute_result"
    }
   ],
   "source": [
    "from sklearn.linear_model import LinearRegression\n",
    "\n",
    "lin_reg = LinearRegression()\n",
    "lin_reg.fit(housing, housing_labels)"
   ]
  },
  {
   "cell_type": "code",
   "execution_count": 11,
   "metadata": {
    "colab": {
     "base_uri": "https://localhost:8080/"
    },
    "id": "aupWHgrqT70X",
    "outputId": "6caa3b1a-542f-4f93-c27b-b74e6006b8f2"
   },
   "outputs": [
    {
     "data": {
      "text/plain": [
       "70451.26518090801"
      ]
     },
     "execution_count": 11,
     "metadata": {},
     "output_type": "execute_result"
    }
   ],
   "source": [
    "from sklearn.metrics import mean_squared_error\n",
    "\n",
    "housing_predictions = lin_reg.predict(X_test)\n",
    "lin_mse = mean_squared_error(y_test, housing_predictions)\n",
    "lin_rmse = np.sqrt(lin_mse)\n",
    "lin_rmse"
   ]
  },
  {
   "cell_type": "code",
   "execution_count": 12,
   "metadata": {
    "colab": {
     "base_uri": "https://localhost:8080/",
     "height": 75
    },
    "id": "eyBtRJrxT7g0",
    "outputId": "26b0b858-b030-4698-fb81-b5dc993c7a62"
   },
   "outputs": [
    {
     "data": {
      "text/plain": [
       "DecisionTreeRegressor(random_state=42)"
      ]
     },
     "execution_count": 12,
     "metadata": {},
     "output_type": "execute_result"
    }
   ],
   "source": [
    "from sklearn.tree import DecisionTreeRegressor\n",
    "\n",
    "tree_reg = DecisionTreeRegressor(random_state=42)\n",
    "tree_reg.fit(housing, housing_labels) # .fit(x,y)"
   ]
  },
  {
   "cell_type": "code",
   "execution_count": 13,
   "metadata": {
    "colab": {
     "base_uri": "https://localhost:8080/"
    },
    "id": "MNrP66VJUehB",
    "outputId": "2a914138-e77f-40c6-d38f-a89b6314ca30"
   },
   "outputs": [
    {
     "data": {
      "text/plain": [
       "72337.8117519875"
      ]
     },
     "execution_count": 13,
     "metadata": {},
     "output_type": "execute_result"
    }
   ],
   "source": [
    "housing_predictions = tree_reg.predict(X_test)\n",
    "tree_mse = mean_squared_error(y_test, housing_predictions)\n",
    "tree_rmse = np.sqrt(tree_mse)\n",
    "tree_rmse"
   ]
  },
  {
   "cell_type": "code",
   "execution_count": 14,
   "metadata": {
    "colab": {
     "base_uri": "https://localhost:8080/",
     "height": 75
    },
    "id": "dgrJTdgRUee7",
    "outputId": "83d20ee8-14ce-40fc-e132-a5feb7b5cbf6"
   },
   "outputs": [
    {
     "data": {
      "text/plain": [
       "RandomForestRegressor(random_state=42)"
      ]
     },
     "execution_count": 14,
     "metadata": {},
     "output_type": "execute_result"
    }
   ],
   "source": [
    "from sklearn.ensemble import RandomForestRegressor\n",
    "\n",
    "forest_reg = RandomForestRegressor(n_estimators=100, random_state=42)\n",
    "forest_reg.fit(housing, housing_labels)"
   ]
  },
  {
   "cell_type": "code",
   "execution_count": 16,
   "metadata": {
    "colab": {
     "base_uri": "https://localhost:8080/"
    },
    "id": "rEqY6dw_Uec2",
    "outputId": "d180af52-d93e-4f16-95a4-2e5e14273742"
   },
   "outputs": [
    {
     "data": {
      "text/plain": [
       "52177.862347226444"
      ]
     },
     "execution_count": 16,
     "metadata": {},
     "output_type": "execute_result"
    }
   ],
   "source": [
    "housing_predictions = forest_reg.predict(X_test)\n",
    "forest_mse = mean_squared_error(y_test, housing_predictions)\n",
    "forest_rmse = np.sqrt(forest_mse)\n",
    "forest_rmse\n",
    "#this model is the best among 3"
   ]
  },
  {
   "cell_type": "code",
   "execution_count": null,
   "metadata": {
    "id": "WTFIOrl1Ueaj"
   },
   "outputs": [],
   "source": []
  }
 ],
 "metadata": {
  "colab": {
   "provenance": []
  },
  "kernelspec": {
   "display_name": "Python 3 (ipykernel)",
   "language": "python",
   "name": "python3"
  },
  "language_info": {
   "codemirror_mode": {
    "name": "ipython",
    "version": 3
   },
   "file_extension": ".py",
   "mimetype": "text/x-python",
   "name": "python",
   "nbconvert_exporter": "python",
   "pygments_lexer": "ipython3",
   "version": "3.9.13"
  }
 },
 "nbformat": 4,
 "nbformat_minor": 1
}

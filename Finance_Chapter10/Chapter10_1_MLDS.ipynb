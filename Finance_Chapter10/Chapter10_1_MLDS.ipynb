{
 "cells": [
  {
   "cell_type": "markdown",
   "metadata": {
    "id": "GwFx51KB15M4"
   },
   "source": [
    "## Chapter 10"
   ]
  },
  {
   "cell_type": "code",
   "execution_count": 3,
   "metadata": {
    "colab": {
     "base_uri": "https://localhost:8080/"
    },
    "id": "xpxkA5NN11jI",
    "outputId": "75b57d54-bb7f-4c55-bf96-51687ddd33f6"
   },
   "outputs": [
    {
     "name": "stderr",
     "output_type": "stream",
     "text": [
      "[nltk_data] Downloading package punkt to\n",
      "[nltk_data]     C:\\Users\\qorud\\AppData\\Roaming\\nltk_data...\n",
      "[nltk_data]   Package punkt is already up-to-date!\n"
     ]
    }
   ],
   "source": [
    "import nltk\n",
    "import nltk.data\n",
    "nltk.download('punkt')\n",
    "\n",
    "from textblob import TextBlob"
   ]
  },
  {
   "cell_type": "markdown",
   "metadata": {
    "id": "mU0AXs7Y2GC6"
   },
   "source": [
    "### 1.1. Tokenization"
   ]
  },
  {
   "cell_type": "code",
   "execution_count": 4,
   "metadata": {
    "colab": {
     "base_uri": "https://localhost:8080/"
    },
    "id": "morBepwh186i",
    "outputId": "32e5f12b-552c-453f-dd6e-fe4f82beab1f"
   },
   "outputs": [
    {
     "data": {
      "text/plain": [
       "['This', 'is', 'a', 'tokenize', 'test']"
      ]
     },
     "execution_count": 4,
     "metadata": {},
     "output_type": "execute_result"
    }
   ],
   "source": [
    "# Text to tokenize\n",
    "text = 'This is a tokenize test'\n",
    "\n",
    "from nltk.tokenize import word_tokenize\n",
    "word_tokenize(text)"
   ]
  },
  {
   "cell_type": "code",
   "execution_count": 5,
   "metadata": {
    "colab": {
     "base_uri": "https://localhost:8080/"
    },
    "id": "9kwhTp-t2BBw",
    "outputId": "79137733-0d19-456e-d412-41e87cb75450"
   },
   "outputs": [
    {
     "data": {
      "text/plain": [
       "WordList(['This', 'is', 'a', 'tokenize', 'test'])"
      ]
     },
     "execution_count": 5,
     "metadata": {},
     "output_type": "execute_result"
    }
   ],
   "source": [
    "TextBlob(text).words"
   ]
  },
  {
   "cell_type": "markdown",
   "metadata": {
    "id": "SFvVLMyY2mJW"
   },
   "source": [
    "### 1.2. Stop words removal"
   ]
  },
  {
   "cell_type": "code",
   "execution_count": 6,
   "metadata": {
    "colab": {
     "base_uri": "https://localhost:8080/"
    },
    "id": "AqHHDDpy21QZ",
    "outputId": "1bd36be5-89a1-437e-c89c-4dff52b897d3"
   },
   "outputs": [
    {
     "name": "stderr",
     "output_type": "stream",
     "text": [
      "[nltk_data] Downloading package stopwords to\n",
      "[nltk_data]     C:\\Users\\qorud\\AppData\\Roaming\\nltk_data...\n",
      "[nltk_data]   Unzipping corpora\\stopwords.zip.\n"
     ]
    },
    {
     "data": {
      "text/plain": [
       "True"
      ]
     },
     "execution_count": 6,
     "metadata": {},
     "output_type": "execute_result"
    }
   ],
   "source": [
    "nltk.download('stopwords')"
   ]
  },
  {
   "cell_type": "code",
   "execution_count": 7,
   "metadata": {
    "colab": {
     "base_uri": "https://localhost:8080/"
    },
    "id": "WtuYAl7P2lhi",
    "outputId": "7825eb4a-4d99-4943-bece-59c5a7160ce6"
   },
   "outputs": [
    {
     "name": "stdout",
     "output_type": "stream",
     "text": [
      "['S', '&', 'P', 'NASDAQ', 'two', 'popular', 'indices', 'US']\n"
     ]
    }
   ],
   "source": [
    "text = \"S&P and NASDAQ are the two most popular indices in US\"\n",
    "\n",
    "from nltk.corpus import stopwords\n",
    "from nltk.tokenize import word_tokenize\n",
    "stop_words = set(stopwords.words('english'))\n",
    "text_tokens = word_tokenize(text)\n",
    "\n",
    "tokens_without_sw= [word for word in text_tokens if not word in stop_words]\n",
    "print(tokens_without_sw)"
   ]
  },
  {
   "cell_type": "markdown",
   "metadata": {
    "id": "ly7D0ZBZ2xHt"
   },
   "source": [
    "### 1.3. Stemming"
   ]
  },
  {
   "cell_type": "code",
   "execution_count": 8,
   "metadata": {
    "colab": {
     "base_uri": "https://localhost:8080/"
    },
    "id": "PyJx1efv2rb8",
    "outputId": "9f4ea2d1-91c7-4087-c101-de7726192ce6"
   },
   "outputs": [
    {
     "data": {
      "text/plain": [
       "[('Stemming', 'stem'), ('testing', 'test')]"
      ]
     },
     "execution_count": 8,
     "metadata": {},
     "output_type": "execute_result"
    }
   ],
   "source": [
    "text = \"It's a Stemming testing\"\n",
    "parsed_text = word_tokenize(text)\n",
    "\n",
    "# Initialize stemmer\n",
    "from nltk.stem.snowball import SnowballStemmer\n",
    "stemmer = SnowballStemmer('english')\n",
    "\n",
    "# Stem each word\n",
    "[(word, stemmer.stem(word)) for i, word in enumerate(parsed_text)\n",
    "if word.lower() != stemmer.stem(parsed_text[i])]"
   ]
  },
  {
   "cell_type": "code",
   "execution_count": 9,
   "metadata": {
    "colab": {
     "base_uri": "https://localhost:8080/"
    },
    "id": "MBepmQn525Pm",
    "outputId": "72dde3f3-8248-4fd9-8638-20a5520cb8fd"
   },
   "outputs": [
    {
     "data": {
      "text/plain": [
       "[]"
      ]
     },
     "execution_count": 9,
     "metadata": {},
     "output_type": "execute_result"
    }
   ],
   "source": [
    "text = \"This is better\"\n",
    "parsed_text = word_tokenize(text)\n",
    "\n",
    "# Initialize stemmer\n",
    "from nltk.stem.snowball import SnowballStemmer\n",
    "stemmer = SnowballStemmer('english')\n",
    "\n",
    "# Stem each word\n",
    "[(word, stemmer.stem(word)) for i, word in enumerate(parsed_text)\n",
    "if word.lower() != stemmer.stem(parsed_text[i])]"
   ]
  },
  {
   "cell_type": "markdown",
   "metadata": {
    "id": "Fp6ppFkG3J2x"
   },
   "source": [
    "### 1.4. Lemmatization"
   ]
  },
  {
   "cell_type": "code",
   "execution_count": 10,
   "metadata": {
    "colab": {
     "base_uri": "https://localhost:8080/"
    },
    "id": "yw3nKI2u3Pfr",
    "outputId": "fe7bdd15-7609-4b3d-94ad-610c4acd8dcb"
   },
   "outputs": [
    {
     "name": "stderr",
     "output_type": "stream",
     "text": [
      "[nltk_data] Downloading package wordnet to\n",
      "[nltk_data]     C:\\Users\\qorud\\AppData\\Roaming\\nltk_data...\n"
     ]
    },
    {
     "data": {
      "text/plain": [
       "True"
      ]
     },
     "execution_count": 10,
     "metadata": {},
     "output_type": "execute_result"
    }
   ],
   "source": [
    "nltk.download('wordnet')"
   ]
  },
  {
   "cell_type": "code",
   "execution_count": 11,
   "metadata": {
    "colab": {
     "base_uri": "https://localhost:8080/"
    },
    "id": "xJIDzqyw2_qE",
    "outputId": "b9e46396-9521-4b93-b566-ef9a32091a9d"
   },
   "outputs": [
    {
     "data": {
      "text/plain": [
       "[('is', 'be'), ('better', 'good')]"
      ]
     },
     "execution_count": 11,
     "metadata": {},
     "output_type": "execute_result"
    }
   ],
   "source": [
    "text = \"This is better\"\n",
    "\n",
    "from nltk.stem import WordNetLemmatizer\n",
    "parsed_data = word_tokenize(text)\n",
    "lemmatizer = WordNetLemmatizer()\n",
    "\n",
    "verb = [(word, lemmatizer.lemmatize(word, pos =\"v\")) for i, word in enumerate(parsed_data)\n",
    "if word != lemmatizer.lemmatize(word, pos =\"v\")]\n",
    "adjective = [(word, lemmatizer.lemmatize(word, pos =\"a\")) for i, word in enumerate(parsed_data)\n",
    "if word != lemmatizer.lemmatize(word, pos =\"a\")]\n",
    "\n",
    "verb + adjective"
   ]
  },
  {
   "cell_type": "markdown",
   "metadata": {
    "id": "g1EOxOLt3Xk4"
   },
   "source": [
    "### 1.5. PoS tagging"
   ]
  },
  {
   "cell_type": "code",
   "execution_count": 12,
   "metadata": {
    "colab": {
     "base_uri": "https://localhost:8080/"
    },
    "id": "MUslAxON3WAx",
    "outputId": "055ffed4-f8b4-4f32-b9af-15c5f3fdf3ea"
   },
   "outputs": [
    {
     "name": "stderr",
     "output_type": "stream",
     "text": [
      "[nltk_data] Downloading package averaged_perceptron_tagger to\n",
      "[nltk_data]     C:\\Users\\qorud\\AppData\\Roaming\\nltk_data...\n",
      "[nltk_data]   Unzipping taggers\\averaged_perceptron_tagger.zip.\n"
     ]
    },
    {
     "data": {
      "text/plain": [
       "True"
      ]
     },
     "execution_count": 12,
     "metadata": {},
     "output_type": "execute_result"
    }
   ],
   "source": [
    "nltk.download('averaged_perceptron_tagger')"
   ]
  },
  {
   "cell_type": "code",
   "execution_count": 13,
   "metadata": {
    "colab": {
     "base_uri": "https://localhost:8080/"
    },
    "id": "Kk3EjNKj3NAi",
    "outputId": "4bcf02f9-3208-41e5-835f-c484b8b5f37e"
   },
   "outputs": [
    {
     "data": {
      "text/plain": [
       "[('Google', 'NNP'),\n",
       " ('is', 'VBZ'),\n",
       " ('looking', 'VBG'),\n",
       " ('at', 'IN'),\n",
       " ('buying', 'VBG'),\n",
       " ('U.K.', 'NNP'),\n",
       " ('startup', 'NN'),\n",
       " ('for', 'IN'),\n",
       " ('1', 'CD'),\n",
       " ('billion', 'CD')]"
      ]
     },
     "execution_count": 13,
     "metadata": {},
     "output_type": "execute_result"
    }
   ],
   "source": [
    "text = 'Google is looking at buying U.K. startup for $1 billion'\n",
    "TextBlob(text).tags"
   ]
  },
  {
   "cell_type": "code",
   "execution_count": 11,
   "metadata": {
    "id": "5j5m8EV43Tkt"
   },
   "outputs": [],
   "source": []
  }
 ],
 "metadata": {
  "colab": {
   "provenance": []
  },
  "kernelspec": {
   "display_name": "Python 3 (ipykernel)",
   "language": "python",
   "name": "python3"
  },
  "language_info": {
   "codemirror_mode": {
    "name": "ipython",
    "version": 3
   },
   "file_extension": ".py",
   "mimetype": "text/x-python",
   "name": "python",
   "nbconvert_exporter": "python",
   "pygments_lexer": "ipython3",
   "version": "3.11.5"
  }
 },
 "nbformat": 4,
 "nbformat_minor": 1
}

{
 "cells": [
  {
   "cell_type": "markdown",
   "metadata": {
    "id": "GwFx51KB15M4"
   },
   "source": [
    "## Chapter 10 (3)"
   ]
  },
  {
   "cell_type": "markdown",
   "metadata": {
    "id": "mU0AXs7Y2GC6"
   },
   "source": [
    "### Sentiment Analysis Model"
   ]
  },
  {
   "cell_type": "markdown",
   "metadata": {
    "id": "cusXaL30jTTs"
   },
   "source": [
    "### TextBlob package"
   ]
  },
  {
   "cell_type": "code",
   "execution_count": 1,
   "metadata": {
    "id": "jzHEtYmkjojU"
   },
   "outputs": [],
   "source": [
    "from textblob import TextBlob"
   ]
  },
  {
   "cell_type": "code",
   "execution_count": 2,
   "metadata": {
    "id": "zsHh3wy64KDs"
   },
   "outputs": [],
   "source": [
    "text1 = \"Bayer (OTCPK:BAYRY) started the week up 3.5% to €74/share in Frankfurt, touching their \\\n",
    "highest level in 14 months, after the U.S. government said a $25M glyphosate decision against the \\\n",
    "company should be reversed.\""
   ]
  },
  {
   "cell_type": "code",
   "execution_count": 3,
   "metadata": {
    "colab": {
     "base_uri": "https://localhost:8080/"
    },
    "id": "velgmaco4KKu",
    "outputId": "569d1b1f-9ebe-451f-a059-638e0459ce88"
   },
   "outputs": [
    {
     "data": {
      "text/plain": [
       "0.5"
      ]
     },
     "execution_count": 3,
     "metadata": {},
     "output_type": "execute_result"
    }
   ],
   "source": [
    "TextBlob(text1).sentiment.polarity"
   ]
  },
  {
   "cell_type": "code",
   "execution_count": 4,
   "metadata": {
    "colab": {
     "base_uri": "https://localhost:8080/"
    },
    "id": "gXUed5Sm4KQ0",
    "outputId": "afb11393-ad63-4122-8c33-6b3cc2edbab5"
   },
   "outputs": [
    {
     "data": {
      "text/plain": [
       "Sentiment(polarity=0.5, subjectivity=0.5, assessments=[(['touching'], 0.5, 0.5, None)])"
      ]
     },
     "execution_count": 4,
     "metadata": {},
     "output_type": "execute_result"
    }
   ],
   "source": [
    "TextBlob(text1).sentiment_assessments"
   ]
  },
  {
   "cell_type": "code",
   "execution_count": null,
   "metadata": {
    "id": "cyaF5LIkaBTj"
   },
   "outputs": [],
   "source": []
  },
  {
   "cell_type": "markdown",
   "metadata": {
    "id": "ykf4KE-PY7hF"
   },
   "source": [
    "### Exercise"
   ]
  },
  {
   "cell_type": "markdown",
   "metadata": {
    "id": "UlORjL0SbfTb"
   },
   "source": [
    "#### Sample data"
   ]
  },
  {
   "cell_type": "code",
   "execution_count": 5,
   "metadata": {
    "colab": {
     "base_uri": "https://localhost:8080/",
     "height": 54
    },
    "id": "AbJ_6MHiaYkM",
    "outputId": "8127bc3b-e509-4695-dc9c-c68423e40be1"
   },
   "outputs": [
    {
     "data": {
      "text/plain": [
       "'li class=\"n-box-item date-title\" data-end=\"1305172799\" data-start=\"1305086400\" data-txt=\"Tuesday, December 17, 2019\">Wednesday, May 11, 2011</li><li class=\"n-box-item sa-box-item\" data-id=\"76179\" data-ts=\"1305149244\"><div class=\"media media-overflow-fix\"><div class=\"media-left\"><a class=\"box-ticker\" href=\"/symbol/CSCO\" target=\"_blank\">CSCO</a></div><div class=\"media-body\"><h4 class=\"media-heading\"><a href=\"/news/76179\" sasource=\"on_the_move_news_fidelity\" target=\"_blank\">Cisco (NASDAQ:CSCO): Pr'"
      ]
     },
     "execution_count": 5,
     "metadata": {},
     "output_type": "execute_result"
    }
   ],
   "source": [
    "import zipfile\n",
    "import json\n",
    "\n",
    "z = zipfile.ZipFile(\"Raw Headline Data.zip\", \"r\")\n",
    "testFile=z.namelist()[10]\n",
    "fileData= z.open(testFile).read()\n",
    "fileDataSample = json.loads(fileData)['content'][1:500]\n",
    "fileDataSample"
   ]
  },
  {
   "cell_type": "code",
   "execution_count": 6,
   "metadata": {
    "id": "A3f140BcZDql"
   },
   "outputs": [],
   "source": [
    "from lxml import etree\n",
    "from io import StringIO\n",
    "\n",
    "def jsonParser(json_data):\n",
    "    xml_data = json_data['content']\n",
    "\n",
    "    tree = etree.parse(StringIO(xml_data), parser=etree.HTMLParser())\n",
    "\n",
    "    headlines = tree.xpath(\"//h4[contains(@class, 'media-heading')]/a/text()\")\n",
    "    assert len(headlines) == json_data['count']\n",
    "\n",
    "    main_tickers = list(map(lambda x: x.replace('/symbol/', ''), tree.xpath(\"//div[contains(@class, 'media-left')]//a/@href\")))\n",
    "    assert len(main_tickers) == json_data['count']\n",
    "\n",
    "    final_headlines = [''.join(f.xpath('.//text()')) for f in tree.xpath(\"//div[contains(@class, 'media-body')]/ul/li[1]\")]\n",
    "    if len(final_headlines) == 0:\n",
    "        final_headlines = [''.join(f.xpath('.//text()')) for f in tree.xpath(\"//div[contains(@class, 'media-body')]\")]\n",
    "        final_headlines = [f.replace(h, '').split('\\xa0')[0].strip() for f,h in zip (final_headlines, headlines)]\n",
    "\n",
    "    return main_tickers, final_headlines"
   ]
  },
  {
   "cell_type": "code",
   "execution_count": 7,
   "metadata": {
    "colab": {
     "base_uri": "https://localhost:8080/",
     "height": 35
    },
    "id": "EDWWYVUHZF4k",
    "outputId": "eef915c6-546c-4855-b09a-a20f7dfa078d"
   },
   "outputs": [
    {
     "data": {
      "text/plain": [
       "'Cisco Systems (NASDAQ:CSCO) falls further into the red on FQ4 guidance of $0.37-0.39 vs. $0.42 Street consensus. Sales seen flat to +2% vs. 8% Street view. CSCO recently -2.1%.'"
      ]
     },
     "execution_count": 7,
     "metadata": {},
     "output_type": "execute_result"
    }
   ],
   "source": [
    "jsonParser(json.loads(fileData))[1][1]"
   ]
  },
  {
   "cell_type": "code",
   "execution_count": 8,
   "metadata": {
    "colab": {
     "base_uri": "https://localhost:8080/"
    },
    "id": "WbMEX42Qj-rt",
    "outputId": "6fd0da89-0e21-48f1-f030-d1d1dd66507f"
   },
   "outputs": [
    {
     "name": "stdout",
     "output_type": "stream",
     "text": [
      "Sentiment score:  -0.00625\n",
      "Sentiment assessments:  Sentiment(polarity=-0.00625, subjectivity=0.21875, assessments=[(['further'], 0.0, 0.5, None), (['red'], 0.0, 0.0, None), (['flat'], -0.025, 0.125, None), (['recently'], 0.0, 0.25, None)])\n"
     ]
    }
   ],
   "source": [
    "from textblob import TextBlob\n",
    "\n",
    "print('Sentiment score: ', TextBlob(jsonParser(json.loads(fileData))[1][1]).sentiment.polarity)\n",
    "print('Sentiment assessments: ', TextBlob(jsonParser(json.loads(fileData))[1][1]).sentiment_assessments)"
   ]
  },
  {
   "cell_type": "code",
   "execution_count": null,
   "metadata": {
    "id": "TQFpxRPMZFvG"
   },
   "outputs": [],
   "source": []
  },
  {
   "cell_type": "markdown",
   "metadata": {
    "id": "0eE0Mg87bi_r"
   },
   "source": [
    "#### Full data"
   ]
  },
  {
   "cell_type": "code",
   "execution_count": null,
   "metadata": {
    "id": "kUTIKDVwb0vq"
   },
   "outputs": [],
   "source": []
  },
  {
   "cell_type": "code",
   "execution_count": 9,
   "metadata": {
    "id": "3Z9RVlh5ZubN"
   },
   "outputs": [],
   "source": [
    "import pandas as pd\n",
    "import datetime\n",
    "from datetime import date\n",
    "\n",
    "data_df_news = pd.DataFrame()\n",
    "with zipfile.ZipFile(\"Raw Headline Data.zip\", \"r\") as z:\n",
    "    for filename in z.namelist():\n",
    "        try:\n",
    "            with z.open(filename) as f:\n",
    "                data = f.read()\n",
    "                json_data = json.loads(data)\n",
    "            if json_data.get('count', 0)> 10:\n",
    "                #Step 1: Parse the News Jsons\n",
    "                main_tickers, final_headlines = jsonParser(json_data)\n",
    "                if len(final_headlines) != json_data['count']:\n",
    "                    continue\n",
    "\n",
    "                #Step 2: Prepare Future and Event Return and assign Future and Event return for each ticker.\n",
    "                file_date = filename.split('/')[-1].replace('.json', '')\n",
    "                file_date = date(int(file_date[:4]), int(file_date[5:7]), int(file_date[8:]))\n",
    "\n",
    "                #Step 3: Merge all the data in a data frame\n",
    "                df_dict = {'ticker': main_tickers,\n",
    "                           'headline': final_headlines,\n",
    "                           'date': [file_date] * len(main_tickers)\n",
    "                           }\n",
    "                df_f = pd.DataFrame(df_dict)\n",
    "                data_df_news = data_df_news.append(df_f)\n",
    "        except:\n",
    "            pass"
   ]
  },
  {
   "cell_type": "code",
   "execution_count": 10,
   "metadata": {
    "colab": {
     "base_uri": "https://localhost:8080/"
    },
    "id": "x-FeWA8_lvHv",
    "outputId": "1d969d4d-b345-4fe4-a7dd-0873a52a5f18"
   },
   "outputs": [
    {
     "data": {
      "text/plain": [
       "0"
      ]
     },
     "execution_count": 10,
     "metadata": {},
     "output_type": "execute_result"
    }
   ],
   "source": [
    "len(data_df_news)"
   ]
  },
  {
   "cell_type": "code",
   "execution_count": 14,
   "metadata": {
    "colab": {
     "base_uri": "https://localhost:8080/",
     "height": 206
    },
    "id": "cj157AFPlhMa",
    "outputId": "eeb06e79-4a1c-411b-fa1d-057ad358e15a"
   },
   "outputs": [
    {
     "data": {
      "text/html": [
       "<div>\n",
       "<style scoped>\n",
       "    .dataframe tbody tr th:only-of-type {\n",
       "        vertical-align: middle;\n",
       "    }\n",
       "\n",
       "    .dataframe tbody tr th {\n",
       "        vertical-align: top;\n",
       "    }\n",
       "\n",
       "    .dataframe thead th {\n",
       "        text-align: right;\n",
       "    }\n",
       "</style>\n",
       "<table border=\"1\" class=\"dataframe\">\n",
       "  <thead>\n",
       "    <tr style=\"text-align: right;\">\n",
       "      <th></th>\n",
       "    </tr>\n",
       "  </thead>\n",
       "  <tbody>\n",
       "  </tbody>\n",
       "</table>\n",
       "</div>"
      ],
      "text/plain": [
       "Empty DataFrame\n",
       "Columns: []\n",
       "Index: []"
      ]
     },
     "execution_count": 14,
     "metadata": {},
     "output_type": "execute_result"
    }
   ],
   "source": [
    "data_df_news.head()"
   ]
  },
  {
   "cell_type": "code",
   "execution_count": 12,
   "metadata": {
    "colab": {
     "base_uri": "https://localhost:8080/",
     "height": 206
    },
    "id": "EV3f5eGGZFf3",
    "outputId": "cc82c01d-2b61-472b-e40a-e8b8ba5fddaa"
   },
   "outputs": [
    {
     "ename": "AttributeError",
     "evalue": "'DataFrame' object has no attribute 'ticker'",
     "output_type": "error",
     "traceback": [
      "\u001b[1;31m---------------------------------------------------------------------------\u001b[0m",
      "\u001b[1;31mAttributeError\u001b[0m                            Traceback (most recent call last)",
      "Cell \u001b[1;32mIn[12], line 1\u001b[0m\n\u001b[1;32m----> 1\u001b[0m data_df_news[data_df_news\u001b[38;5;241m.\u001b[39mticker\u001b[38;5;241m==\u001b[39m\u001b[38;5;124m'\u001b[39m\u001b[38;5;124mCSCO\u001b[39m\u001b[38;5;124m'\u001b[39m]\u001b[38;5;241m.\u001b[39mhead()\n",
      "File \u001b[1;32m~\\anaconda3\\Lib\\site-packages\\pandas\\core\\generic.py:5989\u001b[0m, in \u001b[0;36mNDFrame.__getattr__\u001b[1;34m(self, name)\u001b[0m\n\u001b[0;32m   5982\u001b[0m \u001b[38;5;28;01mif\u001b[39;00m (\n\u001b[0;32m   5983\u001b[0m     name \u001b[38;5;129;01mnot\u001b[39;00m \u001b[38;5;129;01min\u001b[39;00m \u001b[38;5;28mself\u001b[39m\u001b[38;5;241m.\u001b[39m_internal_names_set\n\u001b[0;32m   5984\u001b[0m     \u001b[38;5;129;01mand\u001b[39;00m name \u001b[38;5;129;01mnot\u001b[39;00m \u001b[38;5;129;01min\u001b[39;00m \u001b[38;5;28mself\u001b[39m\u001b[38;5;241m.\u001b[39m_metadata\n\u001b[0;32m   5985\u001b[0m     \u001b[38;5;129;01mand\u001b[39;00m name \u001b[38;5;129;01mnot\u001b[39;00m \u001b[38;5;129;01min\u001b[39;00m \u001b[38;5;28mself\u001b[39m\u001b[38;5;241m.\u001b[39m_accessors\n\u001b[0;32m   5986\u001b[0m     \u001b[38;5;129;01mand\u001b[39;00m \u001b[38;5;28mself\u001b[39m\u001b[38;5;241m.\u001b[39m_info_axis\u001b[38;5;241m.\u001b[39m_can_hold_identifiers_and_holds_name(name)\n\u001b[0;32m   5987\u001b[0m ):\n\u001b[0;32m   5988\u001b[0m     \u001b[38;5;28;01mreturn\u001b[39;00m \u001b[38;5;28mself\u001b[39m[name]\n\u001b[1;32m-> 5989\u001b[0m \u001b[38;5;28;01mreturn\u001b[39;00m \u001b[38;5;28mobject\u001b[39m\u001b[38;5;241m.\u001b[39m\u001b[38;5;21m__getattribute__\u001b[39m(\u001b[38;5;28mself\u001b[39m, name)\n",
      "\u001b[1;31mAttributeError\u001b[0m: 'DataFrame' object has no attribute 'ticker'"
     ]
    }
   ],
   "source": [
    "data_df_news[data_df_news.ticker=='CSCO'].head()"
   ]
  },
  {
   "cell_type": "code",
   "execution_count": 13,
   "metadata": {
    "colab": {
     "base_uri": "https://localhost:8080/",
     "height": 35
    },
    "id": "59_U8n4dixRj",
    "outputId": "c06f59a6-d902-4a06-93df-64fa7de860a0"
   },
   "outputs": [
    {
     "ename": "AttributeError",
     "evalue": "'DataFrame' object has no attribute 'ticker'",
     "output_type": "error",
     "traceback": [
      "\u001b[1;31m---------------------------------------------------------------------------\u001b[0m",
      "\u001b[1;31mAttributeError\u001b[0m                            Traceback (most recent call last)",
      "Cell \u001b[1;32mIn[13], line 1\u001b[0m\n\u001b[1;32m----> 1\u001b[0m data_df_news[data_df_news\u001b[38;5;241m.\u001b[39mticker\u001b[38;5;241m==\u001b[39m\u001b[38;5;124m'\u001b[39m\u001b[38;5;124mCSCO\u001b[39m\u001b[38;5;124m'\u001b[39m]\u001b[38;5;241m.\u001b[39miloc[\u001b[38;5;241m1\u001b[39m][\u001b[38;5;124m'\u001b[39m\u001b[38;5;124mheadline\u001b[39m\u001b[38;5;124m'\u001b[39m]\n",
      "File \u001b[1;32m~\\anaconda3\\Lib\\site-packages\\pandas\\core\\generic.py:5989\u001b[0m, in \u001b[0;36mNDFrame.__getattr__\u001b[1;34m(self, name)\u001b[0m\n\u001b[0;32m   5982\u001b[0m \u001b[38;5;28;01mif\u001b[39;00m (\n\u001b[0;32m   5983\u001b[0m     name \u001b[38;5;129;01mnot\u001b[39;00m \u001b[38;5;129;01min\u001b[39;00m \u001b[38;5;28mself\u001b[39m\u001b[38;5;241m.\u001b[39m_internal_names_set\n\u001b[0;32m   5984\u001b[0m     \u001b[38;5;129;01mand\u001b[39;00m name \u001b[38;5;129;01mnot\u001b[39;00m \u001b[38;5;129;01min\u001b[39;00m \u001b[38;5;28mself\u001b[39m\u001b[38;5;241m.\u001b[39m_metadata\n\u001b[0;32m   5985\u001b[0m     \u001b[38;5;129;01mand\u001b[39;00m name \u001b[38;5;129;01mnot\u001b[39;00m \u001b[38;5;129;01min\u001b[39;00m \u001b[38;5;28mself\u001b[39m\u001b[38;5;241m.\u001b[39m_accessors\n\u001b[0;32m   5986\u001b[0m     \u001b[38;5;129;01mand\u001b[39;00m \u001b[38;5;28mself\u001b[39m\u001b[38;5;241m.\u001b[39m_info_axis\u001b[38;5;241m.\u001b[39m_can_hold_identifiers_and_holds_name(name)\n\u001b[0;32m   5987\u001b[0m ):\n\u001b[0;32m   5988\u001b[0m     \u001b[38;5;28;01mreturn\u001b[39;00m \u001b[38;5;28mself\u001b[39m[name]\n\u001b[1;32m-> 5989\u001b[0m \u001b[38;5;28;01mreturn\u001b[39;00m \u001b[38;5;28mobject\u001b[39m\u001b[38;5;241m.\u001b[39m\u001b[38;5;21m__getattribute__\u001b[39m(\u001b[38;5;28mself\u001b[39m, name)\n",
      "\u001b[1;31mAttributeError\u001b[0m: 'DataFrame' object has no attribute 'ticker'"
     ]
    }
   ],
   "source": [
    "data_df_news[data_df_news.ticker=='CSCO'].iloc[1]['headline']"
   ]
  },
  {
   "cell_type": "code",
   "execution_count": null,
   "metadata": {
    "colab": {
     "base_uri": "https://localhost:8080/"
    },
    "id": "flC-zklUl-Hm",
    "outputId": "f87223df-1ff6-43ae-d64f-b10a00efded3"
   },
   "outputs": [],
   "source": [
    "TextBlob(data_df_news[data_df_news.ticker=='CSCO'].iloc[1]['headline']).sentiment.polarity"
   ]
  },
  {
   "cell_type": "code",
   "execution_count": null,
   "metadata": {
    "id": "zUZd4dZCmHia"
   },
   "outputs": [],
   "source": []
  },
  {
   "cell_type": "code",
   "execution_count": null,
   "metadata": {
    "id": "x6Vml-Oeba9z"
   },
   "outputs": [],
   "source": [
    "# Apply to all headlines\n",
    "data_df_news['sentiment_score'] = data_df_news['headline'].apply(lambda x: TextBlob(x).sentiment.polarity)"
   ]
  },
  {
   "cell_type": "code",
   "execution_count": null,
   "metadata": {
    "colab": {
     "base_uri": "https://localhost:8080/",
     "height": 206
    },
    "id": "8uqZeof8ba7W",
    "outputId": "d632ed01-a59d-430b-89fa-ea0023eafde1"
   },
   "outputs": [],
   "source": [
    "data_df_news.head()"
   ]
  },
  {
   "cell_type": "code",
   "execution_count": null,
   "metadata": {
    "colab": {
     "base_uri": "https://localhost:8080/",
     "height": 206
    },
    "id": "IecLpHxBj4YP",
    "outputId": "24cbe695-8b9d-4fbd-dd18-4e15065bf961"
   },
   "outputs": [],
   "source": [
    "data_df_news[data_df_news.ticker=='CSCO'].head()"
   ]
  },
  {
   "cell_type": "markdown",
   "metadata": {
    "id": "EsSw-Sntku9r"
   },
   "source": [
    "### Q1. How many headlines have a sentiment score of 1?\n"
   ]
  },
  {
   "cell_type": "code",
   "execution_count": null,
   "metadata": {},
   "outputs": [],
   "source": [
    "len(data_df_news)"
   ]
  },
  {
   "cell_type": "code",
   "execution_count": null,
   "metadata": {},
   "outputs": [],
   "source": [
    "data_df_news.head()"
   ]
  },
  {
   "cell_type": "markdown",
   "metadata": {},
   "source": [
    "### Q2. Apply sentiment_assessments of TextBlob to one of the headlines with a sentiment score 1."
   ]
  },
  {
   "cell_type": "code",
   "execution_count": null,
   "metadata": {},
   "outputs": [],
   "source": []
  },
  {
   "cell_type": "markdown",
   "metadata": {},
   "source": [
    "### Q3. How many headlines have a sentiment score of -1?\n"
   ]
  },
  {
   "cell_type": "code",
   "execution_count": null,
   "metadata": {},
   "outputs": [],
   "source": []
  },
  {
   "cell_type": "markdown",
   "metadata": {},
   "source": [
    "### Q4. Apply sentiment_assessments of TextBlob to one of the headlines with a sentiment score -1.\n"
   ]
  },
  {
   "cell_type": "code",
   "execution_count": null,
   "metadata": {},
   "outputs": [],
   "source": []
  },
  {
   "cell_type": "code",
   "execution_count": null,
   "metadata": {},
   "outputs": [],
   "source": []
  }
 ],
 "metadata": {
  "colab": {
   "provenance": []
  },
  "kernelspec": {
   "display_name": "Python 3 (ipykernel)",
   "language": "python",
   "name": "python3"
  },
  "language_info": {
   "codemirror_mode": {
    "name": "ipython",
    "version": 3
   },
   "file_extension": ".py",
   "mimetype": "text/x-python",
   "name": "python",
   "nbconvert_exporter": "python",
   "pygments_lexer": "ipython3",
   "version": "3.11.5"
  }
 },
 "nbformat": 4,
 "nbformat_minor": 1
}

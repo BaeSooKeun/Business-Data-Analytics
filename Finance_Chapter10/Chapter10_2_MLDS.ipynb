{
 "cells": [
  {
   "cell_type": "markdown",
   "metadata": {
    "id": "GwFx51KB15M4"
   },
   "source": [
    "## Chapter 10 (2)"
   ]
  },
  {
   "cell_type": "markdown",
   "metadata": {
    "id": "mU0AXs7Y2GC6"
   },
   "source": [
    "### 2.1. Bag of words"
   ]
  },
  {
   "cell_type": "code",
   "execution_count": 1,
   "metadata": {
    "colab": {
     "base_uri": "https://localhost:8080/"
    },
    "id": "zsHh3wy64KDs",
    "outputId": "777dccf3-7477-445f-fad1-0a96356cd6b8"
   },
   "outputs": [
    {
     "name": "stdout",
     "output_type": "stream",
     "text": [
      "[[0 1 1 1 1 1 1 0 1 1 2 1]\n",
      " [1 1 0 1 0 0 1 1 0 0 0 0]]\n",
      "{'the': 10, 'stock': 9, 'price': 8, 'of': 5, 'google': 3, 'jumps': 4, 'on': 6, 'earning': 2, 'data': 1, 'today': 11, 'plunge': 7, 'china': 0}\n"
     ]
    }
   ],
   "source": [
    "sentences = [\n",
    "'The stock price of google jumps on the earning data today',\n",
    "'Google plunge on China Data!'\n",
    "]\n",
    "\n",
    "from sklearn.feature_extraction.text import CountVectorizer\n",
    "vectorizer = CountVectorizer()\n",
    "print( vectorizer.fit_transform(sentences).todense() )\n",
    "print( vectorizer.vocabulary_ )\n",
    "\n",
    "#이거 밑에 결과 해석하는거 나올수도 있을 것 같음"
   ]
  },
  {
   "cell_type": "markdown",
   "metadata": {
    "id": "HwOjGEnHAVpo"
   },
   "source": [
    "### 2.2. TF-IDF"
   ]
  },
  {
   "cell_type": "code",
   "execution_count": 2,
   "metadata": {
    "colab": {
     "base_uri": "https://localhost:8080/"
    },
    "id": "velgmaco4KKu",
    "outputId": "4b1faa97-2070-4e1e-e2fb-84007f82620a"
   },
   "outputs": [
    {
     "name": "stdout",
     "output_type": "stream",
     "text": [
      "['china' 'data' 'earning' 'google' 'jumps' 'plunge' 'price' 'stock'\n",
      " 'today']\n",
      "(2, 9)\n",
      "[[0.         0.29017021 0.4078241  0.29017021 0.4078241  0.\n",
      "  0.4078241  0.4078241  0.4078241 ]\n",
      " [0.57615236 0.40993715 0.         0.40993715 0.         0.57615236\n",
      "  0.         0.         0.        ]]\n"
     ]
    }
   ],
   "source": [
    "from sklearn.feature_extraction.text import TfidfVectorizer\n",
    "vectorizer = TfidfVectorizer(max_features=1000, stop_words='english')\n",
    "TFIDF = vectorizer.fit_transform(sentences)\n",
    "\n",
    "print(vectorizer.get_feature_names_out()[-10:])\n",
    "print(TFIDF.shape)\n",
    "print(TFIDF.toarray())"
   ]
  },
  {
   "cell_type": "markdown",
   "metadata": {
    "id": "FPd0AExVDTxj"
   },
   "source": [
    "### 2.3. Word embedding"
   ]
  },
  {
   "cell_type": "code",
   "execution_count": 3,
   "metadata": {
    "colab": {
     "base_uri": "https://localhost:8080/"
    },
    "id": "gXUed5Sm4KQ0",
    "outputId": "940b3d16-6672-4b70-ccbb-eae02975ac46"
   },
   "outputs": [
    {
     "name": "stdout",
     "output_type": "stream",
     "text": [
      "['Google', ' Data!', 'China', ' on', 'plunge', 'increases', 'of', 'price', 'stock', 'The']\n",
      "[ 0.00023643  0.00510335  0.00900927 -0.00930295]\n"
     ]
    }
   ],
   "source": [
    "from gensim.models import Word2Vec\n",
    "sentences = [\n",
    "['The','stock','price', 'of', 'Google', 'increases'],\n",
    "['Google','plunge',' on','China',' Data!']]\n",
    "\n",
    "# train model\n",
    "model = Word2Vec(sentences, min_count=1)\n",
    "\n",
    "# summarize the loaded model\n",
    "words = list(model.wv.index_to_key)\n",
    "print(words)\n",
    "print(model.wv['Google'][1:5])"
   ]
  },
  {
   "cell_type": "code",
   "execution_count": 4,
   "metadata": {
    "colab": {
     "base_uri": "https://localhost:8080/"
    },
    "id": "YlwX_6JP4KXc",
    "outputId": "2d204596-455b-4413-d504-789d4a491da1"
   },
   "outputs": [
    {
     "data": {
      "text/plain": [
       "100"
      ]
     },
     "execution_count": 4,
     "metadata": {},
     "output_type": "execute_result"
    }
   ],
   "source": [
    "len(model.wv['Google'])"
   ]
  },
  {
   "cell_type": "code",
   "execution_count": null,
   "metadata": {
    "id": "dKVdTBTPQhru"
   },
   "outputs": [],
   "source": []
  },
  {
   "cell_type": "markdown",
   "metadata": {
    "id": "Cuj-nbuSQiEt"
   },
   "source": [
    "### Exercise"
   ]
  },
  {
   "cell_type": "code",
   "execution_count": 6,
   "metadata": {
    "colab": {
     "base_uri": "https://localhost:8080/",
     "height": 89
    },
    "id": "5j5m8EV43Tkt",
    "outputId": "89610ff0-b0bd-4170-d8c1-03cc8507b44d"
   },
   "outputs": [
    {
     "data": {
      "text/plain": [
       "'li class=\"n-box-item date-title\" data-end=\"1305172799\" data-start=\"1305086400\" data-txt=\"Tuesday, December 17, 2019\">Wednesday, May 11, 2011</li><li class=\"n-box-item sa-box-item\" data-id=\"76179\" data-ts=\"1305149244\"><div class=\"media media-overflow-fix\"><div class=\"media-left\"><a class=\"box-ticker\" href=\"/symbol/CSCO\" target=\"_blank\">CSCO</a></div><div class=\"media-body\"><h4 class=\"media-heading\"><a href=\"/news/76179\" sasource=\"on_the_move_news_fidelity\" target=\"_blank\">Cisco (NASDAQ:CSCO): Pr'"
      ]
     },
     "execution_count": 6,
     "metadata": {},
     "output_type": "execute_result"
    }
   ],
   "source": [
    "import zipfile\n",
    "import json\n",
    "\n",
    "z = zipfile.ZipFile(\"Raw Headline Data.zip\", \"r\")\n",
    "testFile=z.namelist()[10]\n",
    "fileData= z.open(testFile).read()\n",
    "fileDataSample = json.loads(fileData)['content'][1:500]\n",
    "fileDataSample"
   ]
  },
  {
   "cell_type": "code",
   "execution_count": 7,
   "metadata": {
    "id": "txSXtdVBRIE6"
   },
   "outputs": [],
   "source": [
    "from lxml import etree\n",
    "from io import StringIO\n",
    "\n",
    "def jsonParser(json_data):\n",
    "    xml_data = json_data['content']\n",
    "\n",
    "    tree = etree.parse(StringIO(xml_data), parser=etree.HTMLParser())\n",
    "\n",
    "    headlines = tree.xpath(\"//h4[contains(@class, 'media-heading')]/a/text()\")\n",
    "    assert len(headlines) == json_data['count']\n",
    "\n",
    "    main_tickers = list(map(lambda x: x.replace('/symbol/', ''), tree.xpath(\"//div[contains(@class, 'media-left')]//a/@href\")))\n",
    "    assert len(main_tickers) == json_data['count']\n",
    "\n",
    "    final_headlines = [''.join(f.xpath('.//text()')) for f in tree.xpath(\"//div[contains(@class, 'media-body')]/ul/li[1]\")]\n",
    "    if len(final_headlines) == 0:\n",
    "        final_headlines = [''.join(f.xpath('.//text()')) for f in tree.xpath(\"//div[contains(@class, 'media-body')]\")]\n",
    "        final_headlines = [f.replace(h, '').split('\\xa0')[0].strip() for f,h in zip (final_headlines, headlines)]\n",
    "\n",
    "    return main_tickers, final_headlines"
   ]
  },
  {
   "cell_type": "code",
   "execution_count": 8,
   "metadata": {
    "colab": {
     "base_uri": "https://localhost:8080/",
     "height": 53
    },
    "id": "DNVvRM8ORzo9",
    "outputId": "d8a44e8f-9863-4d7b-f41b-8e47f0e7e68b"
   },
   "outputs": [
    {
     "data": {
      "text/plain": [
       "'Cisco Systems (NASDAQ:CSCO) falls further into the red on FQ4 guidance of $0.37-0.39 vs. $0.42 Street consensus. Sales seen flat to +2% vs. 8% Street view. CSCO recently -2.1%.'"
      ]
     },
     "execution_count": 8,
     "metadata": {},
     "output_type": "execute_result"
    }
   ],
   "source": [
    "jsonParser(json.loads(fileData))[1][1]"
   ]
  },
  {
   "cell_type": "markdown",
   "metadata": {
    "id": "7D07KjraV5Rz"
   },
   "source": [
    "#### Word2Vec"
   ]
  },
  {
   "cell_type": "code",
   "execution_count": 9,
   "metadata": {
    "id": "g_zO4zQ5VywM"
   },
   "outputs": [],
   "source": [
    "z = zipfile.ZipFile(\"Raw Headline Data.zip\", \"r\")\n",
    "\n",
    "sentences = []\n",
    "for i in range(1000):\n",
    "    testFile=z.namelist()[i]\n",
    "    fileData= z.open(testFile).read()\n",
    "    try:\n",
    "        sentences = sentences + jsonParser(json.loads(fileData))[1]\n",
    "    except:\n",
    "        pass"
   ]
  },
  {
   "cell_type": "code",
   "execution_count": 10,
   "metadata": {
    "colab": {
     "base_uri": "https://localhost:8080/"
    },
    "id": "GK5xNoxsWLt3",
    "outputId": "ca84ad2d-ec0d-4621-9451-bfce73fafbf3"
   },
   "outputs": [
    {
     "data": {
      "text/plain": [
       "39900"
      ]
     },
     "execution_count": 10,
     "metadata": {},
     "output_type": "execute_result"
    }
   ],
   "source": [
    "len(sentences)"
   ]
  },
  {
   "cell_type": "code",
   "execution_count": 11,
   "metadata": {
    "colab": {
     "base_uri": "https://localhost:8080/"
    },
    "id": "686AJrZdUB1l",
    "outputId": "1076ada2-c0b2-4230-d14a-4ca86e0957ea"
   },
   "outputs": [
    {
     "name": "stderr",
     "output_type": "stream",
     "text": [
      "[nltk_data] Downloading package punkt to\n",
      "[nltk_data]     C:\\Users\\qorud\\AppData\\Roaming\\nltk_data...\n",
      "[nltk_data]   Package punkt is already up-to-date!\n"
     ]
    }
   ],
   "source": [
    "import nltk\n",
    "nltk.download('punkt')\n",
    "\n",
    "from nltk.tokenize import word_tokenize\n",
    "tokenized_sentences = [word_tokenize(i) for i in sentences]"
   ]
  },
  {
   "cell_type": "code",
   "execution_count": 12,
   "metadata": {
    "colab": {
     "base_uri": "https://localhost:8080/"
    },
    "id": "8preFoT0SO9B",
    "outputId": "2e924a5b-14f1-44ee-fe77-eec6bb6f0fdd"
   },
   "outputs": [
    {
     "name": "stdout",
     "output_type": "stream",
     "text": [
      "65458\n"
     ]
    }
   ],
   "source": [
    "from gensim.models import Word2Vec\n",
    "\n",
    "# train model\n",
    "model = Word2Vec(tokenized_sentences, min_count=1)\n",
    "\n",
    "# summarize the loaded model\n",
    "words = list(model.wv.index_to_key)\n",
    "print(len(words))"
   ]
  },
  {
   "cell_type": "code",
   "execution_count": 13,
   "metadata": {
    "colab": {
     "base_uri": "https://localhost:8080/"
    },
    "id": "BjSmMoeiWi_d",
    "outputId": "83afe256-8d23-4bcd-fd21-e578e4466ef4"
   },
   "outputs": [
    {
     "name": "stdout",
     "output_type": "stream",
     "text": [
      "[('Google', 0.8876566290855408), ('Amazon', 0.833220899105072), ('Microsoft', 0.8261463046073914), ('Facebook', 0.7977450489997864), ('Cisco', 0.7464077472686768)]\n"
     ]
    }
   ],
   "source": [
    "print(model.wv.most_similar(positive=['Apple'], topn=5))"
   ]
  },
  {
   "cell_type": "code",
   "execution_count": 14,
   "metadata": {
    "colab": {
     "base_uri": "https://localhost:8080/"
    },
    "id": "vmrCun4FW_F5",
    "outputId": "7660d1f8-979d-471a-88eb-4e4bd8b24fb4"
   },
   "outputs": [
    {
     "name": "stdout",
     "output_type": "stream",
     "text": [
      "[('revenues', 0.8537961840629578), ('bookings', 0.761223554611206), ('income', 0.7190226912498474), ('subscriber', 0.718623161315918), ('sales', 0.7182759046554565)]\n"
     ]
    }
   ],
   "source": [
    "print(model.wv.most_similar(positive=['revenue'], topn=5))"
   ]
  },
  {
   "cell_type": "code",
   "execution_count": 15,
   "metadata": {
    "colab": {
     "base_uri": "https://localhost:8080/"
    },
    "id": "xyvBqzgHXEz5",
    "outputId": "01fbd57c-c359-4988-f246-ce3da31c6471"
   },
   "outputs": [
    {
     "name": "stdout",
     "output_type": "stream",
     "text": [
      "[('company', 0.8156300783157349), ('retailer', 0.7783814668655396), ('chipmaker', 0.6567060351371765), ('agency', 0.6430360078811646), ('bank', 0.6371440887451172)]\n"
     ]
    }
   ],
   "source": [
    "print(model.wv.most_similar(positive=['firm'], topn=5))"
   ]
  }
 ],
 "metadata": {
  "colab": {
   "provenance": []
  },
  "kernelspec": {
   "display_name": "Python 3 (ipykernel)",
   "language": "python",
   "name": "python3"
  },
  "language_info": {
   "codemirror_mode": {
    "name": "ipython",
    "version": 3
   },
   "file_extension": ".py",
   "mimetype": "text/x-python",
   "name": "python",
   "nbconvert_exporter": "python",
   "pygments_lexer": "ipython3",
   "version": "3.11.5"
  }
 },
 "nbformat": 4,
 "nbformat_minor": 1
}

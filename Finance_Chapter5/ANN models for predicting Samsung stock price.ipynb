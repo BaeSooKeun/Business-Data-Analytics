{
 "cells": [
  {
   "cell_type": "markdown",
   "id": "2e95abb2",
   "metadata": {},
   "source": [
    "## Importing Packages"
   ]
  },
  {
   "cell_type": "code",
   "execution_count": 1,
   "id": "1e2334c6",
   "metadata": {},
   "outputs": [],
   "source": [
    "# Python ≥3.5 is required\n",
    "import sys\n",
    "assert sys.version_info >= (3, 5)\n",
    "\n",
    "# TensorFlow ≥2.0 is required\n",
    "import tensorflow as tf\n",
    "from tensorflow import keras\n",
    "assert tf.__version__ >= \"2.0\"\n",
    "\n",
    "from keras.models import Sequential\n",
    "from keras.layers import Flatten\n",
    "from keras.layers import Dense\n",
    "from keras.layers import SimpleRNN\n",
    "from keras.layers import LSTM\n",
    "\n",
    "\n",
    "# Common imports\n",
    "import numpy as np\n",
    "#import os\n",
    "#os.environ[\"PATH\"] += os.pathsep + 'C:/Program Files/Graphviz/bin/'\n",
    "\n",
    "# To make this notebook's output stable across runs\n",
    "np.random.seed(42)\n",
    "tf.random.set_seed(42)\n",
    "\n",
    "# To plot pretty figures\n",
    "%matplotlib inline\n",
    "import matplotlib as mpl\n",
    "import matplotlib.pyplot as plt\n",
    "mpl.rc('axes', labelsize=14)\n",
    "mpl.rc('xtick', labelsize=12)\n",
    "mpl.rc('ytick', labelsize=12)\n",
    "\n",
    "# Libraries for data preparation and visualization\n",
    "import numpy as np\n",
    "import pandas as pd\n",
    "\n",
    "import pandas_datareader.data as web\n",
    "import yfinance as yf\n",
    "yf.pdr_override()\n",
    "import datetime\n",
    "\n",
    "from matplotlib import pyplot\n",
    "from pandas.plotting import scatter_matrix\n",
    "import seaborn as sns\n",
    "\n",
    "# Libraries for data analysis and model evaluation\n",
    "from sklearn.model_selection import train_test_split\n",
    "from sklearn.metrics import mean_squared_error\n",
    "\n",
    "# Libraries for statistical models\n",
    "import statsmodels.api as sm\n",
    "\n",
    "# Libraries for the supervised regression models\n",
    "from sklearn.linear_model import LinearRegression\n",
    "from sklearn.tree import DecisionTreeRegressor\n",
    "\n",
    "# Libraries for the deep learning models\n",
    "import tensorflow as tf\n",
    "from tensorflow import keras\n",
    "\n",
    "from keras.models import Sequential\n",
    "from keras.layers import Dense\n",
    "from keras.layers import LSTM\n",
    "\n",
    "import os\n",
    "os.environ[\"PATH\"] += os.pathsep + 'C:/Program Files/Graphviz/bin/'\n",
    "\n",
    "# Disable the warnings\n",
    "import warnings\n",
    "warnings.filterwarnings('ignore')"
   ]
  },
  {
   "cell_type": "markdown",
   "id": "6dd80ab1",
   "metadata": {},
   "source": [
    "## Q1. Write a Python code for the following.\n",
    "### 1. Load the stock data of Samsung Electronics using the code from ‘Assignment2_data.ipynb’."
   ]
  },
  {
   "cell_type": "code",
   "execution_count": 2,
   "id": "b69b8014",
   "metadata": {},
   "outputs": [
    {
     "name": "stdout",
     "output_type": "stream",
     "text": [
      "[*********************100%%**********************]  1 of 1 completed\n"
     ]
    },
    {
     "data": {
      "text/html": [
       "<div>\n",
       "<style scoped>\n",
       "    .dataframe tbody tr th:only-of-type {\n",
       "        vertical-align: middle;\n",
       "    }\n",
       "\n",
       "    .dataframe tbody tr th {\n",
       "        vertical-align: top;\n",
       "    }\n",
       "\n",
       "    .dataframe thead th {\n",
       "        text-align: right;\n",
       "    }\n",
       "</style>\n",
       "<table border=\"1\" class=\"dataframe\">\n",
       "  <thead>\n",
       "    <tr style=\"text-align: right;\">\n",
       "      <th></th>\n",
       "      <th>RETURN_PRED</th>\n",
       "      <th>RETURN</th>\n",
       "      <th>AB_VOL</th>\n",
       "    </tr>\n",
       "    <tr>\n",
       "      <th>Date</th>\n",
       "      <th></th>\n",
       "      <th></th>\n",
       "      <th></th>\n",
       "    </tr>\n",
       "  </thead>\n",
       "  <tbody>\n",
       "    <tr>\n",
       "      <th>2018-01-30</th>\n",
       "      <td>1.002008</td>\n",
       "      <td>0.972276</td>\n",
       "      <td>0.904661</td>\n",
       "    </tr>\n",
       "    <tr>\n",
       "      <th>2018-01-31</th>\n",
       "      <td>0.998397</td>\n",
       "      <td>1.002008</td>\n",
       "      <td>4.697368</td>\n",
       "    </tr>\n",
       "    <tr>\n",
       "      <th>2018-02-01</th>\n",
       "      <td>0.957447</td>\n",
       "      <td>0.998397</td>\n",
       "      <td>1.672988</td>\n",
       "    </tr>\n",
       "    <tr>\n",
       "      <th>2018-02-02</th>\n",
       "      <td>1.004612</td>\n",
       "      <td>0.957447</td>\n",
       "      <td>1.691469</td>\n",
       "    </tr>\n",
       "    <tr>\n",
       "      <th>2018-02-05</th>\n",
       "      <td>0.989566</td>\n",
       "      <td>1.004612</td>\n",
       "      <td>1.550651</td>\n",
       "    </tr>\n",
       "    <tr>\n",
       "      <th>...</th>\n",
       "      <td>...</td>\n",
       "      <td>...</td>\n",
       "      <td>...</td>\n",
       "    </tr>\n",
       "    <tr>\n",
       "      <th>2022-12-22</th>\n",
       "      <td>0.983079</td>\n",
       "      <td>1.018965</td>\n",
       "      <td>0.971145</td>\n",
       "    </tr>\n",
       "    <tr>\n",
       "      <th>2022-12-23</th>\n",
       "      <td>0.996558</td>\n",
       "      <td>0.983079</td>\n",
       "      <td>0.880066</td>\n",
       "    </tr>\n",
       "    <tr>\n",
       "      <th>2022-12-26</th>\n",
       "      <td>1.003454</td>\n",
       "      <td>0.996558</td>\n",
       "      <td>0.596513</td>\n",
       "    </tr>\n",
       "    <tr>\n",
       "      <th>2022-12-27</th>\n",
       "      <td>0.980273</td>\n",
       "      <td>1.003454</td>\n",
       "      <td>0.949456</td>\n",
       "    </tr>\n",
       "    <tr>\n",
       "      <th>2022-12-28</th>\n",
       "      <td>0.977032</td>\n",
       "      <td>0.980273</td>\n",
       "      <td>1.284464</td>\n",
       "    </tr>\n",
       "  </tbody>\n",
       "</table>\n",
       "<p>1209 rows × 3 columns</p>\n",
       "</div>"
      ],
      "text/plain": [
       "            RETURN_PRED    RETURN    AB_VOL\n",
       "Date                                       \n",
       "2018-01-30     1.002008  0.972276  0.904661\n",
       "2018-01-31     0.998397  1.002008  4.697368\n",
       "2018-02-01     0.957447  0.998397  1.672988\n",
       "2018-02-02     1.004612  0.957447  1.691469\n",
       "2018-02-05     0.989566  1.004612  1.550651\n",
       "...                 ...       ...       ...\n",
       "2022-12-22     0.983079  1.018965  0.971145\n",
       "2022-12-23     0.996558  0.983079  0.880066\n",
       "2022-12-26     1.003454  0.996558  0.596513\n",
       "2022-12-27     0.980273  1.003454  0.949456\n",
       "2022-12-28     0.977032  0.980273  1.284464\n",
       "\n",
       "[1209 rows x 3 columns]"
      ]
     },
     "execution_count": 2,
     "metadata": {},
     "output_type": "execute_result"
    }
   ],
   "source": [
    "# Load data\n",
    "import pandas_datareader.data as web\n",
    "import yfinance as yf\n",
    "yf.pdr_override()\n",
    "import datetime\n",
    "\n",
    "start_date = datetime.datetime(2018, 1, 1)\n",
    "end_date = datetime.datetime(2022, 12, 31)\n",
    "\n",
    "stk_data = web.get_data_yahoo('005930.KS', start_date, end_date)\n",
    "stk_data['RETURN'] = stk_data['Adj Close'] / stk_data['Adj Close'].shift(1)\n",
    "stk_data['AB_VOL'] = stk_data['Volume'] / stk_data['Volume'].rolling(20).mean().shift(1)\n",
    "stk_data['RETURN_PRED'] = stk_data['RETURN'].shift(-1)\n",
    "stk_data2 = stk_data[['RETURN_PRED', 'RETURN', 'AB_VOL']].dropna()\n",
    "\n",
    "stk_data2"
   ]
  },
  {
   "cell_type": "code",
   "execution_count": 3,
   "id": "c64e21d5",
   "metadata": {},
   "outputs": [
    {
     "name": "stdout",
     "output_type": "stream",
     "text": [
      "X_train_LSTM.shape:  (948, 20, 2)\n",
      "Y_train_LSTM.shape:  (948, 1)\n"
     ]
    }
   ],
   "source": [
    "# Data preparation\n",
    "import numpy as np\n",
    "\n",
    "Y = stk_data2[['RETURN_PRED']]\n",
    "X = stk_data2[['RETURN', 'AB_VOL']]\n",
    "\n",
    "test_size = 0.2\n",
    "train_size = int(len(X) * (1-test_size))\n",
    "X_train, X_test = X[0:train_size], X[train_size:len(X)]\n",
    "Y_train, Y_test = Y[0:train_size], Y[train_size:len(X)]\n",
    "\n",
    "seq_len = 20 # Length of the seq for the LSTM\n",
    "Y_train_LSTM, Y_test_LSTM = np.array(Y_train)[seq_len-1:], np.array(Y_test)\n",
    "X_train_LSTM = np.zeros((X_train.shape[0]+1-seq_len, seq_len, X_train.shape[1]))\n",
    "X_test_LSTM = np.zeros((X_test.shape[0], seq_len, X.shape[1]))\n",
    "for i in range(seq_len):\n",
    "    X_train_LSTM[:, i, :] = np.array(X_train)[i:X_train.shape[0]+i+1-seq_len, :]\n",
    "    X_test_LSTM[:, i, :] = np.array(X)[X_train.shape[0]+i+1-seq_len:X.shape[0]+i+1-seq_len, :]\n",
    "\n",
    "print('X_train_LSTM.shape: ', X_train_LSTM.shape)\n",
    "print('Y_train_LSTM.shape: ', Y_train_LSTM.shape)"
   ]
  },
  {
   "cell_type": "markdown",
   "id": "e2bb7f73",
   "metadata": {},
   "source": [
    "### 2. Create the following 5 models using Keras.\n",
    "* For ①, ②, ③, you need to add a Flatten layer for inputs.\n",
    "* For ①, ②, ③, ④, ⑤ you need to add a Dense layer for outputs (no activation function).  \n",
    "\n",
    "① no hidden layer (no activation function, linear regression model)"
   ]
  },
  {
   "cell_type": "code",
   "execution_count": 4,
   "id": "4e802d88",
   "metadata": {},
   "outputs": [],
   "source": [
    "model_1 = Sequential([\n",
    "    Flatten(input_shape=X_train_LSTM.shape[1:]),\n",
    "    Dense(1, activation=None)\n",
    "])"
   ]
  },
  {
   "cell_type": "markdown",
   "id": "54fc1b7f",
   "metadata": {},
   "source": [
    "② 1 hidden layer with 20 neurons (ReLU activation function)"
   ]
  },
  {
   "cell_type": "code",
   "execution_count": 5,
   "id": "c0e058e7",
   "metadata": {},
   "outputs": [],
   "source": [
    "model_2 = Sequential([\n",
    "    Flatten(input_shape=X_train_LSTM.shape[1:]),\n",
    "    Dense(20, activation='relu'),\n",
    "    Dense(1, activation=None)\n",
    "])"
   ]
  },
  {
   "cell_type": "markdown",
   "id": "4bc58e1d",
   "metadata": {},
   "source": [
    "③ 2 hidden layers, the first layer with 20 neurons and the second layer with 10 neurons (ReLU activation function)\n"
   ]
  },
  {
   "cell_type": "code",
   "execution_count": 6,
   "id": "bf4c4876",
   "metadata": {},
   "outputs": [],
   "source": [
    "model_3 = Sequential([\n",
    "    Flatten(input_shape=X_train_LSTM.shape[1:]),\n",
    "    Dense(20, activation='relu'),\n",
    "    Dense(10, activation='relu'),\n",
    "    Dense(1, activation=None)\n",
    "])"
   ]
  },
  {
   "cell_type": "markdown",
   "id": "4362c570",
   "metadata": {},
   "source": [
    "④ 1 LSTM layer with 10 outputs"
   ]
  },
  {
   "cell_type": "code",
   "execution_count": 7,
   "id": "94060001",
   "metadata": {},
   "outputs": [],
   "source": [
    "model_4 = Sequential([\n",
    "    LSTM(10, input_shape=(X_train_LSTM.shape[1], X_train_LSTM.shape[2])),\n",
    "    Dense(1, activation=None)\n",
    "])"
   ]
  },
  {
   "cell_type": "markdown",
   "id": "14cb73b6",
   "metadata": {},
   "source": [
    "⑤ 1 LSTM layer with 20 outputs, 1 Dense layer with 10 neurons (no activation function)"
   ]
  },
  {
   "cell_type": "code",
   "execution_count": 8,
   "id": "7c706a2f",
   "metadata": {},
   "outputs": [],
   "source": [
    "model_5 = Sequential([\n",
    "    LSTM(20, input_shape=(X_train_LSTM.shape[1], X_train_LSTM.shape[2])),\n",
    "    Dense(10, activation=None), \n",
    "    Dense(1, activation=None)\n",
    "])"
   ]
  },
  {
   "cell_type": "markdown",
   "id": "89caa753",
   "metadata": {},
   "source": [
    "### 5. Print the summary of the models or create plots for the models."
   ]
  },
  {
   "cell_type": "code",
   "execution_count": 9,
   "id": "7446ee81",
   "metadata": {},
   "outputs": [
    {
     "name": "stdout",
     "output_type": "stream",
     "text": [
      "Model: \"sequential\"\n",
      "_________________________________________________________________\n",
      " Layer (type)                Output Shape              Param #   \n",
      "=================================================================\n",
      " flatten (Flatten)           (None, 40)                0         \n",
      "                                                                 \n",
      " dense (Dense)               (None, 1)                 41        \n",
      "                                                                 \n",
      "=================================================================\n",
      "Total params: 41 (164.00 Byte)\n",
      "Trainable params: 41 (164.00 Byte)\n",
      "Non-trainable params: 0 (0.00 Byte)\n",
      "_________________________________________________________________\n"
     ]
    }
   ],
   "source": [
    "model_1.summary()"
   ]
  },
  {
   "cell_type": "code",
   "execution_count": 10,
   "id": "70aac887",
   "metadata": {},
   "outputs": [
    {
     "data": {
      "image/png": "[encoded data removed]",
      "text/plain": [
       "<IPython.core.display.Image object>"
      ]
     },
     "execution_count": 10,
     "metadata": {},
     "output_type": "execute_result"
    }
   ],
   "source": [
    "keras.utils.plot_model(model_1, show_shapes=True)"
   ]
  },
  {
   "cell_type": "code",
   "execution_count": 11,
   "id": "10192769",
   "metadata": {},
   "outputs": [
    {
     "name": "stdout",
     "output_type": "stream",
     "text": [
      "Model: \"sequential_1\"\n",
      "_________________________________________________________________\n",
      " Layer (type)                Output Shape              Param #   \n",
      "=================================================================\n",
      " flatten_1 (Flatten)         (None, 40)                0         \n",
      "                                                                 \n",
      " dense_1 (Dense)             (None, 20)                820       \n",
      "                                                                 \n",
      " dense_2 (Dense)             (None, 1)                 21        \n",
      "                                                                 \n",
      "=================================================================\n",
      "Total params: 841 (3.29 KB)\n",
      "Trainable params: 841 (3.29 KB)\n",
      "Non-trainable params: 0 (0.00 Byte)\n",
      "_________________________________________________________________\n"
     ]
    }
   ],
   "source": [
    "model_2.summary()"
   ]
  },
  {
   "cell_type": "code",
   "execution_count": 12,
   "id": "2a45301f",
   "metadata": {},
   "outputs": [
    {
     "data": {
      "image/png": "[encoded data removed]",
      "text/plain": [
       "<IPython.core.display.Image object>"
      ]
     },
     "execution_count": 12,
     "metadata": {},
     "output_type": "execute_result"
    }
   ],
   "source": [
    "keras.utils.plot_model(model_2, show_shapes=True)"
   ]
  },
  {
   "cell_type": "code",
   "execution_count": 13,
   "id": "3fc2ed66",
   "metadata": {},
   "outputs": [
    {
     "name": "stdout",
     "output_type": "stream",
     "text": [
      "Model: \"sequential_2\"\n",
      "_________________________________________________________________\n",
      " Layer (type)                Output Shape              Param #   \n",
      "=================================================================\n",
      " flatten_2 (Flatten)         (None, 40)                0         \n",
      "                                                                 \n",
      " dense_3 (Dense)             (None, 20)                820       \n",
      "                                                                 \n",
      " dense_4 (Dense)             (None, 10)                210       \n",
      "                                                                 \n",
      " dense_5 (Dense)             (None, 1)                 11        \n",
      "                                                                 \n",
      "=================================================================\n",
      "Total params: 1041 (4.07 KB)\n",
      "Trainable params: 1041 (4.07 KB)\n",
      "Non-trainable params: 0 (0.00 Byte)\n",
      "_________________________________________________________________\n"
     ]
    }
   ],
   "source": [
    "model_3.summary()"
   ]
  },
  {
   "cell_type": "code",
   "execution_count": 14,
   "id": "1deecd7b",
   "metadata": {},
   "outputs": [
    {
     "data": {
      "image/png": "[encoded data removed]",
      "text/plain": [
       "<IPython.core.display.Image object>"
      ]
     },
     "execution_count": 14,
     "metadata": {},
     "output_type": "execute_result"
    }
   ],
   "source": [
    "keras.utils.plot_model(model_3, show_shapes=True)"
   ]
  },
  {
   "cell_type": "code",
   "execution_count": 15,
   "id": "a4aafe4a",
   "metadata": {},
   "outputs": [
    {
     "name": "stdout",
     "output_type": "stream",
     "text": [
      "Model: \"sequential_3\"\n",
      "_________________________________________________________________\n",
      " Layer (type)                Output Shape              Param #   \n",
      "=================================================================\n",
      " lstm (LSTM)                 (None, 10)                520       \n",
      "                                                                 \n",
      " dense_6 (Dense)             (None, 1)                 11        \n",
      "                                                                 \n",
      "=================================================================\n",
      "Total params: 531 (2.07 KB)\n",
      "Trainable params: 531 (2.07 KB)\n",
      "Non-trainable params: 0 (0.00 Byte)\n",
      "_________________________________________________________________\n"
     ]
    }
   ],
   "source": [
    "model_4.summary()"
   ]
  },
  {
   "cell_type": "code",
   "execution_count": 16,
   "id": "f92f7d1c",
   "metadata": {},
   "outputs": [
    {
     "data": {
      "image/png": "[encoded data removed]",
      "text/plain": [
       "<IPython.core.display.Image object>"
      ]
     },
     "execution_count": 16,
     "metadata": {},
     "output_type": "execute_result"
    }
   ],
   "source": [
    "keras.utils.plot_model(model_4, show_shapes=True)"
   ]
  },
  {
   "cell_type": "code",
   "execution_count": 17,
   "id": "d86fe00a",
   "metadata": {},
   "outputs": [
    {
     "name": "stdout",
     "output_type": "stream",
     "text": [
      "Model: \"sequential_4\"\n",
      "_________________________________________________________________\n",
      " Layer (type)                Output Shape              Param #   \n",
      "=================================================================\n",
      " lstm_1 (LSTM)               (None, 20)                1840      \n",
      "                                                                 \n",
      " dense_7 (Dense)             (None, 10)                210       \n",
      "                                                                 \n",
      " dense_8 (Dense)             (None, 1)                 11        \n",
      "                                                                 \n",
      "=================================================================\n",
      "Total params: 2061 (8.05 KB)\n",
      "Trainable params: 2061 (8.05 KB)\n",
      "Non-trainable params: 0 (0.00 Byte)\n",
      "_________________________________________________________________\n"
     ]
    }
   ],
   "source": [
    "model_5.summary()"
   ]
  },
  {
   "cell_type": "code",
   "execution_count": 18,
   "id": "f8d29627",
   "metadata": {},
   "outputs": [
    {
     "data": {
      "image/png": "[encoded data removed]",
      "text/plain": [
       "<IPython.core.display.Image object>"
      ]
     },
     "execution_count": 18,
     "metadata": {},
     "output_type": "execute_result"
    }
   ],
   "source": [
    "keras.utils.plot_model(model_5, show_shapes=True)"
   ]
  },
  {
   "cell_type": "markdown",
   "id": "9d579f7f",
   "metadata": {},
   "source": [
    "### 6. Compile each model using the MSE as the loss function and the Adam as the optimizer.\n"
   ]
  },
  {
   "cell_type": "code",
   "execution_count": 19,
   "id": "a3d95c68",
   "metadata": {},
   "outputs": [],
   "source": [
    "model_1.compile(loss=\"mse\", optimizer=\"adam\")\n",
    "model_2.compile(loss=\"mse\", optimizer=\"adam\")\n",
    "model_3.compile(loss=\"mse\", optimizer=\"adam\")\n",
    "model_4.compile(loss=\"mse\", optimizer=\"adam\")\n",
    "model_5.compile(loss=\"mse\", optimizer=\"adam\")"
   ]
  },
  {
   "cell_type": "markdown",
   "id": "81232cc7",
   "metadata": {},
   "source": [
    "### 7. Fit each model using the training set with epochs 30 and batch size 32. Set shuffle=False and use the test set as the validation set."
   ]
  },
  {
   "cell_type": "code",
   "execution_count": 20,
   "id": "032c4e69",
   "metadata": {},
   "outputs": [
    {
     "name": "stdout",
     "output_type": "stream",
     "text": [
      "Epoch 1/30\n",
      "30/30 [==============================] - 2s 22ms/step - loss: 8.3589 - val_loss: 5.0524\n",
      "Epoch 2/30\n",
      "30/30 [==============================] - 0s 8ms/step - loss: 3.2630 - val_loss: 1.7363\n",
      "Epoch 3/30\n",
      "30/30 [==============================] - 0s 7ms/step - loss: 1.0429 - val_loss: 0.5426\n",
      "Epoch 4/30\n",
      "30/30 [==============================] - 0s 7ms/step - loss: 0.3398 - val_loss: 0.2392\n",
      "Epoch 5/30\n",
      "30/30 [==============================] - 0s 8ms/step - loss: 0.1833 - val_loss: 0.1872\n",
      "Epoch 6/30\n",
      "30/30 [==============================] - 0s 7ms/step - loss: 0.1595 - val_loss: 0.1809\n",
      "Epoch 7/30\n",
      "30/30 [==============================] - 0s 8ms/step - loss: 0.1562 - val_loss: 0.1793\n",
      "Epoch 8/30\n",
      "30/30 [==============================] - 0s 7ms/step - loss: 0.1546 - val_loss: 0.1777\n",
      "Epoch 9/30\n",
      "30/30 [==============================] - 0s 8ms/step - loss: 0.1529 - val_loss: 0.1759\n",
      "Epoch 10/30\n",
      "30/30 [==============================] - 0s 7ms/step - loss: 0.1511 - val_loss: 0.1740\n",
      "Epoch 11/30\n",
      "30/30 [==============================] - 0s 7ms/step - loss: 0.1492 - val_loss: 0.1721\n",
      "Epoch 12/30\n",
      "30/30 [==============================] - 0s 7ms/step - loss: 0.1472 - val_loss: 0.1701\n",
      "Epoch 13/30\n",
      "30/30 [==============================] - 0s 8ms/step - loss: 0.1452 - val_loss: 0.1680\n",
      "Epoch 14/30\n",
      "30/30 [==============================] - 0s 7ms/step - loss: 0.1431 - val_loss: 0.1658\n",
      "Epoch 15/30\n",
      "30/30 [==============================] - 0s 8ms/step - loss: 0.1409 - val_loss: 0.1636\n",
      "Epoch 16/30\n",
      "30/30 [==============================] - 0s 7ms/step - loss: 0.1387 - val_loss: 0.1614\n",
      "Epoch 17/30\n",
      "30/30 [==============================] - 0s 8ms/step - loss: 0.1365 - val_loss: 0.1590\n",
      "Epoch 18/30\n",
      "30/30 [==============================] - 0s 7ms/step - loss: 0.1342 - val_loss: 0.1567\n",
      "Epoch 19/30\n",
      "30/30 [==============================] - 0s 7ms/step - loss: 0.1318 - val_loss: 0.1543\n",
      "Epoch 20/30\n",
      "30/30 [==============================] - 0s 8ms/step - loss: 0.1295 - val_loss: 0.1519\n",
      "Epoch 21/30\n",
      "30/30 [==============================] - 0s 8ms/step - loss: 0.1271 - val_loss: 0.1494\n",
      "Epoch 22/30\n",
      "30/30 [==============================] - 0s 8ms/step - loss: 0.1247 - val_loss: 0.1469\n",
      "Epoch 23/30\n",
      "30/30 [==============================] - 0s 7ms/step - loss: 0.1223 - val_loss: 0.1445\n",
      "Epoch 24/30\n",
      "30/30 [==============================] - 0s 7ms/step - loss: 0.1198 - val_loss: 0.1419\n",
      "Epoch 25/30\n",
      "30/30 [==============================] - 0s 8ms/step - loss: 0.1174 - val_loss: 0.1394\n",
      "Epoch 26/30\n",
      "30/30 [==============================] - 0s 7ms/step - loss: 0.1149 - val_loss: 0.1369\n",
      "Epoch 27/30\n",
      "30/30 [==============================] - 0s 8ms/step - loss: 0.1125 - val_loss: 0.1343\n",
      "Epoch 28/30\n",
      "30/30 [==============================] - 0s 7ms/step - loss: 0.1100 - val_loss: 0.1318\n",
      "Epoch 29/30\n",
      "30/30 [==============================] - 0s 8ms/step - loss: 0.1076 - val_loss: 0.1292\n",
      "Epoch 30/30\n",
      "30/30 [==============================] - 0s 7ms/step - loss: 0.1051 - val_loss: 0.1266\n",
      "Epoch 1/30\n",
      "30/30 [==============================] - 2s 19ms/step - loss: 0.1046 - val_loss: 0.0640\n",
      "Epoch 2/30\n",
      "30/30 [==============================] - 0s 8ms/step - loss: 0.0581 - val_loss: 0.0528\n",
      "Epoch 3/30\n",
      "30/30 [==============================] - 0s 8ms/step - loss: 0.0469 - val_loss: 0.0440\n",
      "Epoch 4/30\n",
      "30/30 [==============================] - 0s 8ms/step - loss: 0.0391 - val_loss: 0.0368\n",
      "Epoch 5/30\n",
      "30/30 [==============================] - 0s 8ms/step - loss: 0.0321 - val_loss: 0.0309\n",
      "Epoch 6/30\n",
      "30/30 [==============================] - 0s 7ms/step - loss: 0.0264 - val_loss: 0.0260\n",
      "Epoch 7/30\n",
      "30/30 [==============================] - 0s 8ms/step - loss: 0.0216 - val_loss: 0.0219\n",
      "Epoch 8/30\n",
      "30/30 [==============================] - 0s 8ms/step - loss: 0.0177 - val_loss: 0.0186\n",
      "Epoch 9/30\n",
      "30/30 [==============================] - 0s 8ms/step - loss: 0.0145 - val_loss: 0.0157\n",
      "Epoch 10/30\n",
      "30/30 [==============================] - 0s 8ms/step - loss: 0.0118 - val_loss: 0.0136\n",
      "Epoch 11/30\n",
      "30/30 [==============================] - 0s 8ms/step - loss: 0.0095 - val_loss: 0.0116\n",
      "Epoch 12/30\n",
      "30/30 [==============================] - 0s 7ms/step - loss: 0.0077 - val_loss: 0.0101\n",
      "Epoch 13/30\n",
      "30/30 [==============================] - 0s 8ms/step - loss: 0.0063 - val_loss: 0.0088\n",
      "Epoch 14/30\n",
      "30/30 [==============================] - 0s 8ms/step - loss: 0.0051 - val_loss: 0.0079\n",
      "Epoch 15/30\n",
      "30/30 [==============================] - 0s 8ms/step - loss: 0.0041 - val_loss: 0.0071\n",
      "Epoch 16/30\n",
      "30/30 [==============================] - 0s 8ms/step - loss: 0.0034 - val_loss: 0.0063\n",
      "Epoch 17/30\n",
      "30/30 [==============================] - 0s 8ms/step - loss: 0.0028 - val_loss: 0.0057\n",
      "Epoch 18/30\n",
      "30/30 [==============================] - 0s 8ms/step - loss: 0.0024 - val_loss: 0.0052\n",
      "Epoch 19/30\n",
      "30/30 [==============================] - 0s 8ms/step - loss: 0.0021 - val_loss: 0.0048\n",
      "Epoch 20/30\n",
      "30/30 [==============================] - 0s 8ms/step - loss: 0.0018 - val_loss: 0.0044\n",
      "Epoch 21/30\n",
      "30/30 [==============================] - 0s 8ms/step - loss: 0.0016 - val_loss: 0.0042\n",
      "Epoch 22/30\n",
      "30/30 [==============================] - 0s 8ms/step - loss: 0.0014 - val_loss: 0.0039\n",
      "Epoch 23/30\n",
      "30/30 [==============================] - 0s 8ms/step - loss: 0.0012 - val_loss: 0.0037\n",
      "Epoch 24/30\n",
      "30/30 [==============================] - 0s 8ms/step - loss: 0.0011 - val_loss: 0.0035\n",
      "Epoch 25/30\n",
      "30/30 [==============================] - 0s 7ms/step - loss: 0.0010 - val_loss: 0.0034\n",
      "Epoch 26/30\n",
      "30/30 [==============================] - 0s 8ms/step - loss: 9.5494e-04 - val_loss: 0.0033\n",
      "Epoch 27/30\n",
      "30/30 [==============================] - 0s 8ms/step - loss: 8.9038e-04 - val_loss: 0.0031\n",
      "Epoch 28/30\n",
      "30/30 [==============================] - 0s 8ms/step - loss: 8.3616e-04 - val_loss: 0.0030\n",
      "Epoch 29/30\n",
      "30/30 [==============================] - 0s 8ms/step - loss: 7.9122e-04 - val_loss: 0.0029\n",
      "Epoch 30/30\n",
      "30/30 [==============================] - 0s 8ms/step - loss: 7.5296e-04 - val_loss: 0.0028\n",
      "Epoch 1/30\n",
      "30/30 [==============================] - 2s 19ms/step - loss: 0.0886 - val_loss: 0.0425\n",
      "Epoch 2/30\n",
      "30/30 [==============================] - 0s 8ms/step - loss: 0.0297 - val_loss: 0.0277\n",
      "Epoch 3/30\n",
      "30/30 [==============================] - 0s 8ms/step - loss: 0.0213 - val_loss: 0.0219\n",
      "Epoch 4/30\n",
      "30/30 [==============================] - 0s 8ms/step - loss: 0.0162 - val_loss: 0.0178\n",
      "Epoch 5/30\n",
      "30/30 [==============================] - 0s 8ms/step - loss: 0.0127 - val_loss: 0.0145\n",
      "Epoch 6/30\n",
      "30/30 [==============================] - 0s 8ms/step - loss: 0.0104 - val_loss: 0.0119\n",
      "Epoch 7/30\n",
      "30/30 [==============================] - 0s 7ms/step - loss: 0.0087 - val_loss: 0.0099\n",
      "Epoch 8/30\n",
      "30/30 [==============================] - 0s 8ms/step - loss: 0.0074 - val_loss: 0.0085\n",
      "Epoch 9/30\n",
      "30/30 [==============================] - 0s 8ms/step - loss: 0.0063 - val_loss: 0.0074\n",
      "Epoch 10/30\n",
      "30/30 [==============================] - 0s 8ms/step - loss: 0.0055 - val_loss: 0.0065\n",
      "Epoch 11/30\n",
      "30/30 [==============================] - 0s 8ms/step - loss: 0.0048 - val_loss: 0.0057\n",
      "Epoch 12/30\n",
      "30/30 [==============================] - 0s 8ms/step - loss: 0.0042 - val_loss: 0.0051\n",
      "Epoch 13/30\n",
      "30/30 [==============================] - 0s 8ms/step - loss: 0.0037 - val_loss: 0.0046\n",
      "Epoch 14/30\n",
      "30/30 [==============================] - 0s 8ms/step - loss: 0.0033 - val_loss: 0.0042\n",
      "Epoch 15/30\n",
      "30/30 [==============================] - 0s 8ms/step - loss: 0.0029 - val_loss: 0.0038\n",
      "Epoch 16/30\n",
      "30/30 [==============================] - 0s 8ms/step - loss: 0.0026 - val_loss: 0.0035\n",
      "Epoch 17/30\n",
      "30/30 [==============================] - 0s 8ms/step - loss: 0.0023 - val_loss: 0.0032\n",
      "Epoch 18/30\n",
      "30/30 [==============================] - 0s 8ms/step - loss: 0.0021 - val_loss: 0.0029\n",
      "Epoch 19/30\n",
      "30/30 [==============================] - 0s 8ms/step - loss: 0.0018 - val_loss: 0.0027\n",
      "Epoch 20/30\n",
      "30/30 [==============================] - 0s 8ms/step - loss: 0.0016 - val_loss: 0.0025\n",
      "Epoch 21/30\n",
      "30/30 [==============================] - 0s 8ms/step - loss: 0.0015 - val_loss: 0.0023\n",
      "Epoch 22/30\n",
      "30/30 [==============================] - 0s 8ms/step - loss: 0.0013 - val_loss: 0.0021\n",
      "Epoch 23/30\n",
      "30/30 [==============================] - 0s 8ms/step - loss: 0.0012 - val_loss: 0.0020\n"
     ]
    },
    {
     "name": "stdout",
     "output_type": "stream",
     "text": [
      "Epoch 24/30\n",
      "30/30 [==============================] - 0s 8ms/step - loss: 0.0010 - val_loss: 0.0019\n",
      "Epoch 25/30\n",
      "30/30 [==============================] - 0s 8ms/step - loss: 9.4816e-04 - val_loss: 0.0018\n",
      "Epoch 26/30\n",
      "30/30 [==============================] - 0s 8ms/step - loss: 8.6156e-04 - val_loss: 0.0017\n",
      "Epoch 27/30\n",
      "30/30 [==============================] - 0s 8ms/step - loss: 7.8738e-04 - val_loss: 0.0016\n",
      "Epoch 28/30\n",
      "30/30 [==============================] - 0s 8ms/step - loss: 7.2005e-04 - val_loss: 0.0015\n",
      "Epoch 29/30\n",
      "30/30 [==============================] - 0s 8ms/step - loss: 6.6498e-04 - val_loss: 0.0014\n",
      "Epoch 30/30\n",
      "30/30 [==============================] - 0s 8ms/step - loss: 6.1927e-04 - val_loss: 0.0013\n",
      "Epoch 1/30\n",
      "30/30 [==============================] - 8s 73ms/step - loss: 0.5329 - val_loss: 0.0909\n",
      "Epoch 2/30\n",
      "30/30 [==============================] - 1s 23ms/step - loss: 0.0184 - val_loss: 0.0076\n",
      "Epoch 3/30\n",
      "30/30 [==============================] - 1s 23ms/step - loss: 0.0035 - val_loss: 0.0022\n",
      "Epoch 4/30\n",
      "30/30 [==============================] - 1s 23ms/step - loss: 0.0022 - val_loss: 0.0021\n",
      "Epoch 5/30\n",
      "30/30 [==============================] - 1s 24ms/step - loss: 0.0021 - val_loss: 0.0019\n",
      "Epoch 6/30\n",
      "30/30 [==============================] - 1s 23ms/step - loss: 0.0019 - val_loss: 0.0018\n",
      "Epoch 7/30\n",
      "30/30 [==============================] - 1s 24ms/step - loss: 0.0018 - val_loss: 0.0017\n",
      "Epoch 8/30\n",
      "30/30 [==============================] - 1s 23ms/step - loss: 0.0017 - val_loss: 0.0016\n",
      "Epoch 9/30\n",
      "30/30 [==============================] - 1s 23ms/step - loss: 0.0016 - val_loss: 0.0015\n",
      "Epoch 10/30\n",
      "30/30 [==============================] - 1s 23ms/step - loss: 0.0015 - val_loss: 0.0014\n",
      "Epoch 11/30\n",
      "30/30 [==============================] - 1s 24ms/step - loss: 0.0014 - val_loss: 0.0014\n",
      "Epoch 12/30\n",
      "30/30 [==============================] - 1s 24ms/step - loss: 0.0014 - val_loss: 0.0013\n",
      "Epoch 13/30\n",
      "30/30 [==============================] - 1s 22ms/step - loss: 0.0013 - val_loss: 0.0012\n",
      "Epoch 14/30\n",
      "30/30 [==============================] - 1s 23ms/step - loss: 0.0012 - val_loss: 0.0012\n",
      "Epoch 15/30\n",
      "30/30 [==============================] - 1s 24ms/step - loss: 0.0012 - val_loss: 0.0011\n",
      "Epoch 16/30\n",
      "30/30 [==============================] - 1s 23ms/step - loss: 0.0011 - val_loss: 0.0011\n",
      "Epoch 17/30\n",
      "30/30 [==============================] - 1s 24ms/step - loss: 0.0011 - val_loss: 0.0010\n",
      "Epoch 18/30\n",
      "30/30 [==============================] - 1s 23ms/step - loss: 0.0010 - val_loss: 0.0010\n",
      "Epoch 19/30\n",
      "30/30 [==============================] - 1s 23ms/step - loss: 9.8870e-04 - val_loss: 9.6024e-04\n",
      "Epoch 20/30\n",
      "30/30 [==============================] - 1s 24ms/step - loss: 9.4767e-04 - val_loss: 9.1949e-04\n",
      "Epoch 21/30\n",
      "30/30 [==============================] - 1s 23ms/step - loss: 9.0855e-04 - val_loss: 8.8033e-04\n",
      "Epoch 22/30\n",
      "30/30 [==============================] - 1s 21ms/step - loss: 8.7118e-04 - val_loss: 8.4267e-04\n",
      "Epoch 23/30\n",
      "30/30 [==============================] - 1s 23ms/step - loss: 8.3546e-04 - val_loss: 8.0645e-04\n",
      "Epoch 24/30\n",
      "30/30 [==============================] - 1s 24ms/step - loss: 8.0128e-04 - val_loss: 7.7163e-04\n",
      "Epoch 25/30\n",
      "30/30 [==============================] - 1s 23ms/step - loss: 7.6860e-04 - val_loss: 7.3820e-04\n",
      "Epoch 26/30\n",
      "30/30 [==============================] - 1s 23ms/step - loss: 7.3736e-04 - val_loss: 7.0614e-04\n",
      "Epoch 27/30\n",
      "30/30 [==============================] - 1s 23ms/step - loss: 7.0753e-04 - val_loss: 6.7542e-04\n",
      "Epoch 28/30\n",
      "30/30 [==============================] - 1s 23ms/step - loss: 6.7908e-04 - val_loss: 6.4605e-04\n",
      "Epoch 29/30\n",
      "30/30 [==============================] - 1s 24ms/step - loss: 6.5199e-04 - val_loss: 6.1801e-04\n",
      "Epoch 30/30\n",
      "30/30 [==============================] - 1s 24ms/step - loss: 6.2622e-04 - val_loss: 5.9130e-04\n",
      "Epoch 1/30\n",
      "30/30 [==============================] - 9s 74ms/step - loss: 0.2071 - val_loss: 0.0197\n",
      "Epoch 2/30\n",
      "30/30 [==============================] - 1s 22ms/step - loss: 0.0047 - val_loss: 0.0019\n",
      "Epoch 3/30\n",
      "30/30 [==============================] - 1s 23ms/step - loss: 0.0020 - val_loss: 0.0015\n",
      "Epoch 4/30\n",
      "30/30 [==============================] - 1s 23ms/step - loss: 0.0013 - val_loss: 0.0011\n",
      "Epoch 5/30\n",
      "30/30 [==============================] - 1s 24ms/step - loss: 9.1191e-04 - val_loss: 7.8286e-04\n",
      "Epoch 6/30\n",
      "30/30 [==============================] - 1s 23ms/step - loss: 6.8545e-04 - val_loss: 6.1560e-04\n",
      "Epoch 7/30\n",
      "30/30 [==============================] - 1s 23ms/step - loss: 5.4902e-04 - val_loss: 5.2356e-04\n",
      "Epoch 8/30\n",
      "30/30 [==============================] - 1s 24ms/step - loss: 4.7405e-04 - val_loss: 4.7260e-04\n",
      "Epoch 9/30\n",
      "30/30 [==============================] - 1s 24ms/step - loss: 4.3535e-04 - val_loss: 4.4021e-04\n",
      "Epoch 10/30\n",
      "30/30 [==============================] - 1s 25ms/step - loss: 4.1541e-04 - val_loss: 4.1772e-04\n",
      "Epoch 11/30\n",
      "30/30 [==============================] - 1s 23ms/step - loss: 4.0448e-04 - val_loss: 4.0211e-04\n",
      "Epoch 12/30\n",
      "30/30 [==============================] - 1s 24ms/step - loss: 3.9766e-04 - val_loss: 3.9099e-04\n",
      "Epoch 13/30\n",
      "30/30 [==============================] - 1s 24ms/step - loss: 3.9264e-04 - val_loss: 3.8238e-04\n",
      "Epoch 14/30\n",
      "30/30 [==============================] - 1s 24ms/step - loss: 3.8840e-04 - val_loss: 3.7513e-04\n",
      "Epoch 15/30\n",
      "30/30 [==============================] - 1s 22ms/step - loss: 3.8454e-04 - val_loss: 3.6865e-04\n",
      "Epoch 16/30\n",
      "30/30 [==============================] - 1s 24ms/step - loss: 3.8090e-04 - val_loss: 3.6267e-04\n",
      "Epoch 17/30\n",
      "30/30 [==============================] - 1s 24ms/step - loss: 3.7743e-04 - val_loss: 3.5704e-04\n",
      "Epoch 18/30\n",
      "30/30 [==============================] - 1s 24ms/step - loss: 3.7408e-04 - val_loss: 3.5168e-04\n",
      "Epoch 19/30\n",
      "30/30 [==============================] - 1s 24ms/step - loss: 3.7083e-04 - val_loss: 3.4654e-04\n",
      "Epoch 20/30\n",
      "30/30 [==============================] - 1s 23ms/step - loss: 3.6767e-04 - val_loss: 3.4159e-04\n",
      "Epoch 21/30\n",
      "30/30 [==============================] - 1s 24ms/step - loss: 3.6460e-04 - val_loss: 3.3682e-04\n",
      "Epoch 22/30\n",
      "30/30 [==============================] - 1s 23ms/step - loss: 3.6161e-04 - val_loss: 3.3222e-04\n",
      "Epoch 23/30\n",
      "30/30 [==============================] - 1s 24ms/step - loss: 3.5869e-04 - val_loss: 3.2778e-04\n",
      "Epoch 24/30\n",
      "30/30 [==============================] - 1s 22ms/step - loss: 3.5586e-04 - val_loss: 3.2350e-04\n",
      "Epoch 25/30\n",
      "30/30 [==============================] - 1s 22ms/step - loss: 3.5310e-04 - val_loss: 3.1937e-04\n",
      "Epoch 26/30\n",
      "30/30 [==============================] - 1s 22ms/step - loss: 3.5042e-04 - val_loss: 3.1539e-04\n",
      "Epoch 27/30\n",
      "30/30 [==============================] - 1s 23ms/step - loss: 3.4783e-04 - val_loss: 3.1156e-04\n",
      "Epoch 28/30\n",
      "30/30 [==============================] - 1s 24ms/step - loss: 3.4531e-04 - val_loss: 3.0786e-04\n",
      "Epoch 29/30\n",
      "30/30 [==============================] - 1s 23ms/step - loss: 3.4288e-04 - val_loss: 3.0431e-04\n",
      "Epoch 30/30\n",
      "30/30 [==============================] - 1s 23ms/step - loss: 3.4053e-04 - val_loss: 3.0089e-04\n"
     ]
    }
   ],
   "source": [
    "history1 = model_1.fit(X_train_LSTM, Y_train_LSTM, epochs=30, batch_size=32,shuffle=False, validation_data=(X_test_LSTM, Y_test_LSTM))\n",
    "history2 = model_2.fit(X_train_LSTM, Y_train_LSTM, epochs=30, batch_size=32,shuffle=False, validation_data=(X_test_LSTM, Y_test_LSTM))\n",
    "history3 = model_3.fit(X_train_LSTM, Y_train_LSTM, epochs=30, batch_size=32,shuffle=False, validation_data=(X_test_LSTM, Y_test_LSTM))\n",
    "history4 = model_4.fit(X_train_LSTM, Y_train_LSTM, epochs=30, batch_size=32,shuffle=False, validation_data=(X_test_LSTM, Y_test_LSTM))\n",
    "history5 = model_5.fit(X_train_LSTM, Y_train_LSTM, epochs=30, batch_size=32,shuffle=False, validation_data=(X_test_LSTM, Y_test_LSTM))"
   ]
  },
  {
   "cell_type": "markdown",
   "id": "7d9753cb",
   "metadata": {},
   "source": [
    "### 8. Store final training loss in train_results, final validation loss in test_results, and name of the model in names.  \n",
    "names = []  \n",
    "train_results = []  \n",
    "test_results = []  "
   ]
  },
  {
   "cell_type": "code",
   "execution_count": 21,
   "id": "d14b83ac",
   "metadata": {},
   "outputs": [
    {
     "name": "stdout",
     "output_type": "stream",
     "text": [
      "The value of the last validation loss of Model 1:  0.1266454\n",
      "The value of the last validation loss of Model 2:  0.0028153\n",
      "The value of the last validation loss of Model 3:  0.0013265\n",
      "The value of the last validation loss of Model 1:  0.0005913\n",
      "The value of the last validation loss of Model 2:  0.0003009\n"
     ]
    }
   ],
   "source": [
    "print('The value of the last validation loss of Model 1: ', round(history1.history['val_loss'][-1], 7))\n",
    "print('The value of the last validation loss of Model 2: ', round(history2.history['val_loss'][-1], 7))\n",
    "print('The value of the last validation loss of Model 3: ', round(history3.history['val_loss'][-1], 7))\n",
    "print('The value of the last validation loss of Model 1: ', round(history4.history['val_loss'][-1], 7))\n",
    "print('The value of the last validation loss of Model 2: ', round(history5.history['val_loss'][-1], 7))"
   ]
  },
  {
   "cell_type": "code",
   "execution_count": 22,
   "id": "816e50a7",
   "metadata": {},
   "outputs": [
    {
     "name": "stdout",
     "output_type": "stream",
     "text": [
      "30/30 [==============================] - 0s 4ms/step - loss: 0.1029\n",
      "30/30 [==============================] - 0s 3ms/step\n",
      "8/8 [==============================] - 0s 4ms/step\n",
      "Model_1: 0.101339 0.124063\n",
      "30/30 [==============================] - 0s 4ms/step - loss: 6.9155e-04\n",
      "30/30 [==============================] - 0s 4ms/step\n",
      "8/8 [==============================] - 0s 4ms/step\n",
      "Model_2: 0.000660 0.002736\n",
      "30/30 [==============================] - 0s 5ms/step - loss: 5.7734e-04\n",
      "30/30 [==============================] - 0s 4ms/step\n",
      "8/8 [==============================] - 0s 4ms/step\n",
      "Model_3: 0.000565 0.001334\n",
      "30/30 [==============================] - 1s 19ms/step - loss: 6.0352e-04\n",
      "30/30 [==============================] - 2s 7ms/step\n",
      "8/8 [==============================] - 0s 8ms/step\n",
      "Model_4: 0.000593 0.000562\n",
      "30/30 [==============================] - 1s 20ms/step - loss: 3.3957e-04\n",
      "30/30 [==============================] - 2s 8ms/step\n",
      "8/8 [==============================] - 0s 7ms/step\n",
      "Model_5: 0.000343 0.000317\n"
     ]
    }
   ],
   "source": [
    "models = [('Model_1', model_1), ('Model_2', model_2), ('Model_3', model_3), ('Model_4', model_4), ('Model_5', model_5)]\n",
    "\n",
    "names = []\n",
    "test_results = []\n",
    "train_results = []\n",
    "for name, model in models:\n",
    "    names.append(name)\n",
    "\n",
    "    # Full Training period\n",
    "    model.fit(X_train_LSTM, Y_train_LSTM)\n",
    "    train_result = mean_squared_error(model.predict(X_train_LSTM), Y_train_LSTM)\n",
    "    train_results.append(train_result)\n",
    "\n",
    "    # Test results\n",
    "    test_result = mean_squared_error(model.predict(X_test_LSTM), Y_test_LSTM)\n",
    "    test_results.append(test_result)\n",
    "\n",
    "    msg = \"%s: %f %f\" % (name, train_result, test_result)\n",
    "    print(msg)"
   ]
  },
  {
   "cell_type": "markdown",
   "id": "980ef173",
   "metadata": {},
   "source": [
    "### 9. Create a bar graph for comparing the performance of the models using the following code."
   ]
  },
  {
   "cell_type": "code",
   "execution_count": 23,
   "id": "800fe141",
   "metadata": {},
   "outputs": [
    {
     "data": {
      "image/png": "[encoded data removed]",
      "text/plain": [
       "<Figure size 1500x800 with 1 Axes>"
      ]
     },
     "metadata": {},
     "output_type": "display_data"
    }
   ],
   "source": [
    "# Compare algorithms\n",
    "fig = pyplot.figure()\n",
    "ind = np.arange(len(names)) # the x locations for the groups\n",
    "width = 0.35 # the width of the bars\n",
    "fig.suptitle('Comparing the performance of various algorthims on the Train and Test Dataset')\n",
    "ax = fig.add_subplot(111)\n",
    "pyplot.bar(ind - width/2, train_results, width=width, label='Train Error')\n",
    "pyplot.bar(ind + width/2, test_results, width=width, label='Test Error')\n",
    "fig.set_size_inches(15,8)\n",
    "pyplot.legend()\n",
    "ax.set_xticks(ind)\n",
    "ax.set_xticklabels(names)\n",
    "pyplot.ylabel('Mean Square Error')\n",
    "pyplot.show()"
   ]
  }
 ],
 "metadata": {
  "kernelspec": {
   "display_name": "Python 3 (ipykernel)",
   "language": "python",
   "name": "python3"
  },
  "language_info": {
   "codemirror_mode": {
    "name": "ipython",
    "version": 3
   },
   "file_extension": ".py",
   "mimetype": "text/x-python",
   "name": "python",
   "nbconvert_exporter": "python",
   "pygments_lexer": "ipython3",
   "version": "3.11.5"
  }
 },
 "nbformat": 4,
 "nbformat_minor": 5
}
